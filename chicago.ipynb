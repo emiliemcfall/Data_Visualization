{
 "cells": [
  {
   "cell_type": "markdown",
   "metadata": {},
   "source": [
    "### Exploratory analysis: data visualization\n",
    "\n",
    "Are chicago crimes affected by the distance to the nearest police station? And are there more crimes where the roads are not lit up from streetlights?\n",
    "\n",
    "\n",
    "In this notebook we will be working on three different datasets:\n",
    "1. Chicago crimes between 2008-2011\n",
    "2. Streetlight locations in Chicago\n",
    "3. Police stations in Chicago\n"
   ]
  },
  {
   "cell_type": "code",
   "execution_count": 1,
   "metadata": {},
   "outputs": [],
   "source": [
    "import pandas as pd\n",
    "import numpy as np\n",
    "import matplotlib.pyplot as plt\n",
    "import seaborn as sns\n",
    "import scipy as sp\n",
    "from scipy import stats\n",
    "import os"
   ]
  },
  {
   "cell_type": "code",
   "execution_count": 2,
   "metadata": {},
   "outputs": [],
   "source": [
    "DATA_DIR = '/Users/pernillesamsoe/Documents/EPFL/Data_vis/data/'"
   ]
  },
  {
   "cell_type": "markdown",
   "metadata": {},
   "source": [
    "***CHICAGO 2008-2011 DATA***\n",
    "\n",
    "At first, we read the main data describing crimes in Chicago from 2008 to 2011:"
   ]
  },
  {
   "cell_type": "code",
   "execution_count": 3,
   "metadata": {},
   "outputs": [
    {
     "name": "stderr",
     "output_type": "stream",
     "text": [
      "b'Skipping line 1149094: expected 23 fields, saw 41\\n'\n"
     ]
    }
   ],
   "source": [
    "chicago_2008 = pd.read_csv(DATA_DIR + 'Chicago_Crimes_2008_to_2011.csv',error_bad_lines=False)"
   ]
  },
  {
   "cell_type": "markdown",
   "metadata": {},
   "source": [
    "Examining data and the dimensions:"
   ]
  },
  {
   "cell_type": "code",
   "execution_count": 4,
   "metadata": {
    "scrolled": false
   },
   "outputs": [
    {
     "data": {
      "text/html": [
       "<div>\n",
       "<style scoped>\n",
       "    .dataframe tbody tr th:only-of-type {\n",
       "        vertical-align: middle;\n",
       "    }\n",
       "\n",
       "    .dataframe tbody tr th {\n",
       "        vertical-align: top;\n",
       "    }\n",
       "\n",
       "    .dataframe thead th {\n",
       "        text-align: right;\n",
       "    }\n",
       "</style>\n",
       "<table border=\"1\" class=\"dataframe\">\n",
       "  <thead>\n",
       "    <tr style=\"text-align: right;\">\n",
       "      <th></th>\n",
       "      <th>Unnamed: 0</th>\n",
       "      <th>ID</th>\n",
       "      <th>Case Number</th>\n",
       "      <th>Date</th>\n",
       "      <th>Block</th>\n",
       "      <th>IUCR</th>\n",
       "      <th>Primary Type</th>\n",
       "      <th>Description</th>\n",
       "      <th>Location Description</th>\n",
       "      <th>Arrest</th>\n",
       "      <th>...</th>\n",
       "      <th>Ward</th>\n",
       "      <th>Community Area</th>\n",
       "      <th>FBI Code</th>\n",
       "      <th>X Coordinate</th>\n",
       "      <th>Y Coordinate</th>\n",
       "      <th>Year</th>\n",
       "      <th>Updated On</th>\n",
       "      <th>Latitude</th>\n",
       "      <th>Longitude</th>\n",
       "      <th>Location</th>\n",
       "    </tr>\n",
       "  </thead>\n",
       "  <tbody>\n",
       "    <tr>\n",
       "      <th>0</th>\n",
       "      <td>388</td>\n",
       "      <td>4785</td>\n",
       "      <td>HP610824</td>\n",
       "      <td>10/07/2008 12:39:00 PM</td>\n",
       "      <td>000XX E 75TH ST</td>\n",
       "      <td>0110</td>\n",
       "      <td>HOMICIDE</td>\n",
       "      <td>FIRST DEGREE MURDER</td>\n",
       "      <td>ALLEY</td>\n",
       "      <td>True</td>\n",
       "      <td>...</td>\n",
       "      <td>6.0</td>\n",
       "      <td>69.0</td>\n",
       "      <td>01A</td>\n",
       "      <td>1178207.0</td>\n",
       "      <td>1855308.0</td>\n",
       "      <td>2008</td>\n",
       "      <td>08/17/2015 03:03:40 PM</td>\n",
       "      <td>41.758276</td>\n",
       "      <td>-87.622451</td>\n",
       "      <td>(41.758275857, -87.622451031)</td>\n",
       "    </tr>\n",
       "    <tr>\n",
       "      <th>1</th>\n",
       "      <td>835</td>\n",
       "      <td>4786</td>\n",
       "      <td>HP616595</td>\n",
       "      <td>10/09/2008 03:30:00 AM</td>\n",
       "      <td>048XX W POLK ST</td>\n",
       "      <td>0110</td>\n",
       "      <td>HOMICIDE</td>\n",
       "      <td>FIRST DEGREE MURDER</td>\n",
       "      <td>STREET</td>\n",
       "      <td>True</td>\n",
       "      <td>...</td>\n",
       "      <td>24.0</td>\n",
       "      <td>25.0</td>\n",
       "      <td>01A</td>\n",
       "      <td>1144200.0</td>\n",
       "      <td>1895857.0</td>\n",
       "      <td>2008</td>\n",
       "      <td>08/17/2015 03:03:40 PM</td>\n",
       "      <td>41.870252</td>\n",
       "      <td>-87.746069</td>\n",
       "      <td>(41.87025207, -87.746069362)</td>\n",
       "    </tr>\n",
       "    <tr>\n",
       "      <th>2</th>\n",
       "      <td>1334</td>\n",
       "      <td>4787</td>\n",
       "      <td>HP616904</td>\n",
       "      <td>10/09/2008 08:35:00 AM</td>\n",
       "      <td>030XX W MANN DR</td>\n",
       "      <td>0110</td>\n",
       "      <td>HOMICIDE</td>\n",
       "      <td>FIRST DEGREE MURDER</td>\n",
       "      <td>PARK PROPERTY</td>\n",
       "      <td>False</td>\n",
       "      <td>...</td>\n",
       "      <td>18.0</td>\n",
       "      <td>66.0</td>\n",
       "      <td>01A</td>\n",
       "      <td>1157314.0</td>\n",
       "      <td>1859778.0</td>\n",
       "      <td>2008</td>\n",
       "      <td>08/17/2015 03:03:40 PM</td>\n",
       "      <td>41.770990</td>\n",
       "      <td>-87.698901</td>\n",
       "      <td>(41.770990476, -87.698901469)</td>\n",
       "    </tr>\n",
       "    <tr>\n",
       "      <th>3</th>\n",
       "      <td>1907</td>\n",
       "      <td>4788</td>\n",
       "      <td>HP618616</td>\n",
       "      <td>10/10/2008 02:33:00 AM</td>\n",
       "      <td>052XX W CHICAGO AVE</td>\n",
       "      <td>0110</td>\n",
       "      <td>HOMICIDE</td>\n",
       "      <td>FIRST DEGREE MURDER</td>\n",
       "      <td>RESTAURANT</td>\n",
       "      <td>False</td>\n",
       "      <td>...</td>\n",
       "      <td>37.0</td>\n",
       "      <td>25.0</td>\n",
       "      <td>01A</td>\n",
       "      <td>1141065.0</td>\n",
       "      <td>1904824.0</td>\n",
       "      <td>2008</td>\n",
       "      <td>08/17/2015 03:03:40 PM</td>\n",
       "      <td>41.894917</td>\n",
       "      <td>-87.757358</td>\n",
       "      <td>(41.894916924, -87.757358147)</td>\n",
       "    </tr>\n",
       "    <tr>\n",
       "      <th>4</th>\n",
       "      <td>2436</td>\n",
       "      <td>4789</td>\n",
       "      <td>HP619020</td>\n",
       "      <td>10/10/2008 12:50:00 PM</td>\n",
       "      <td>026XX S HOMAN AVE</td>\n",
       "      <td>0110</td>\n",
       "      <td>HOMICIDE</td>\n",
       "      <td>FIRST DEGREE MURDER</td>\n",
       "      <td>GARAGE</td>\n",
       "      <td>False</td>\n",
       "      <td>...</td>\n",
       "      <td>22.0</td>\n",
       "      <td>30.0</td>\n",
       "      <td>01A</td>\n",
       "      <td>1154123.0</td>\n",
       "      <td>1886297.0</td>\n",
       "      <td>2008</td>\n",
       "      <td>08/17/2015 03:03:40 PM</td>\n",
       "      <td>41.843826</td>\n",
       "      <td>-87.709893</td>\n",
       "      <td>(41.843826272, -87.709893465)</td>\n",
       "    </tr>\n",
       "    <tr>\n",
       "      <th>5</th>\n",
       "      <td>3056</td>\n",
       "      <td>4790</td>\n",
       "      <td>HP620131</td>\n",
       "      <td>10/10/2008 08:32:00 PM</td>\n",
       "      <td>015XX W 14TH ST</td>\n",
       "      <td>0110</td>\n",
       "      <td>HOMICIDE</td>\n",
       "      <td>FIRST DEGREE MURDER</td>\n",
       "      <td>STREET</td>\n",
       "      <td>True</td>\n",
       "      <td>...</td>\n",
       "      <td>2.0</td>\n",
       "      <td>28.0</td>\n",
       "      <td>01A</td>\n",
       "      <td>1166321.0</td>\n",
       "      <td>1893492.0</td>\n",
       "      <td>2008</td>\n",
       "      <td>08/17/2015 03:03:40 PM</td>\n",
       "      <td>41.863318</td>\n",
       "      <td>-87.664924</td>\n",
       "      <td>(41.863318307, -87.664923682)</td>\n",
       "    </tr>\n",
       "    <tr>\n",
       "      <th>6</th>\n",
       "      <td>3611</td>\n",
       "      <td>4791</td>\n",
       "      <td>HP620406</td>\n",
       "      <td>10/11/2008 12:55:00 AM</td>\n",
       "      <td>020XX W 23RD ST</td>\n",
       "      <td>0110</td>\n",
       "      <td>HOMICIDE</td>\n",
       "      <td>FIRST DEGREE MURDER</td>\n",
       "      <td>STREET</td>\n",
       "      <td>True</td>\n",
       "      <td>...</td>\n",
       "      <td>25.0</td>\n",
       "      <td>31.0</td>\n",
       "      <td>01A</td>\n",
       "      <td>1163192.0</td>\n",
       "      <td>1888742.0</td>\n",
       "      <td>2008</td>\n",
       "      <td>08/17/2015 03:03:40 PM</td>\n",
       "      <td>41.850350</td>\n",
       "      <td>-87.676543</td>\n",
       "      <td>(41.850350125, -87.676543351)</td>\n",
       "    </tr>\n",
       "    <tr>\n",
       "      <th>7</th>\n",
       "      <td>4425</td>\n",
       "      <td>4792</td>\n",
       "      <td>HP622040</td>\n",
       "      <td>10/11/2008 10:25:00 PM</td>\n",
       "      <td>069XX S PAXTON AVE</td>\n",
       "      <td>0110</td>\n",
       "      <td>HOMICIDE</td>\n",
       "      <td>FIRST DEGREE MURDER</td>\n",
       "      <td>STREET</td>\n",
       "      <td>False</td>\n",
       "      <td>...</td>\n",
       "      <td>5.0</td>\n",
       "      <td>43.0</td>\n",
       "      <td>01A</td>\n",
       "      <td>1192078.0</td>\n",
       "      <td>1859337.0</td>\n",
       "      <td>2008</td>\n",
       "      <td>08/17/2015 03:03:40 PM</td>\n",
       "      <td>41.769006</td>\n",
       "      <td>-87.571485</td>\n",
       "      <td>(41.769005966, -87.571485086)</td>\n",
       "    </tr>\n",
       "    <tr>\n",
       "      <th>8</th>\n",
       "      <td>5213</td>\n",
       "      <td>4793</td>\n",
       "      <td>HP622164</td>\n",
       "      <td>10/11/2008 10:00:00 PM</td>\n",
       "      <td>060XX S SAWYER AVE</td>\n",
       "      <td>0110</td>\n",
       "      <td>HOMICIDE</td>\n",
       "      <td>FIRST DEGREE MURDER</td>\n",
       "      <td>PORCH</td>\n",
       "      <td>False</td>\n",
       "      <td>...</td>\n",
       "      <td>16.0</td>\n",
       "      <td>66.0</td>\n",
       "      <td>01A</td>\n",
       "      <td>1155755.0</td>\n",
       "      <td>1864457.0</td>\n",
       "      <td>2008</td>\n",
       "      <td>08/17/2015 03:03:40 PM</td>\n",
       "      <td>41.783862</td>\n",
       "      <td>-87.704491</td>\n",
       "      <td>(41.783861768, -87.704490821)</td>\n",
       "    </tr>\n",
       "    <tr>\n",
       "      <th>9</th>\n",
       "      <td>5867</td>\n",
       "      <td>4794</td>\n",
       "      <td>HP622189</td>\n",
       "      <td>10/12/2008 05:47:00 AM</td>\n",
       "      <td>024XX W 51ST ST</td>\n",
       "      <td>0110</td>\n",
       "      <td>HOMICIDE</td>\n",
       "      <td>FIRST DEGREE MURDER</td>\n",
       "      <td>ALLEY</td>\n",
       "      <td>False</td>\n",
       "      <td>...</td>\n",
       "      <td>14.0</td>\n",
       "      <td>63.0</td>\n",
       "      <td>01A</td>\n",
       "      <td>1160775.0</td>\n",
       "      <td>1870785.0</td>\n",
       "      <td>2008</td>\n",
       "      <td>08/17/2015 03:03:40 PM</td>\n",
       "      <td>41.801124</td>\n",
       "      <td>-87.685911</td>\n",
       "      <td>(41.801124416, -87.685910818)</td>\n",
       "    </tr>\n",
       "  </tbody>\n",
       "</table>\n",
       "<p>10 rows × 23 columns</p>\n",
       "</div>"
      ],
      "text/plain": [
       "   Unnamed: 0    ID Case Number                    Date                Block  \\\n",
       "0         388  4785    HP610824  10/07/2008 12:39:00 PM      000XX E 75TH ST   \n",
       "1         835  4786    HP616595  10/09/2008 03:30:00 AM      048XX W POLK ST   \n",
       "2        1334  4787    HP616904  10/09/2008 08:35:00 AM      030XX W MANN DR   \n",
       "3        1907  4788    HP618616  10/10/2008 02:33:00 AM  052XX W CHICAGO AVE   \n",
       "4        2436  4789    HP619020  10/10/2008 12:50:00 PM    026XX S HOMAN AVE   \n",
       "5        3056  4790    HP620131  10/10/2008 08:32:00 PM      015XX W 14TH ST   \n",
       "6        3611  4791    HP620406  10/11/2008 12:55:00 AM      020XX W 23RD ST   \n",
       "7        4425  4792    HP622040  10/11/2008 10:25:00 PM   069XX S PAXTON AVE   \n",
       "8        5213  4793    HP622164  10/11/2008 10:00:00 PM   060XX S SAWYER AVE   \n",
       "9        5867  4794    HP622189  10/12/2008 05:47:00 AM      024XX W 51ST ST   \n",
       "\n",
       "   IUCR Primary Type          Description Location Description  Arrest  \\\n",
       "0  0110     HOMICIDE  FIRST DEGREE MURDER                ALLEY    True   \n",
       "1  0110     HOMICIDE  FIRST DEGREE MURDER               STREET    True   \n",
       "2  0110     HOMICIDE  FIRST DEGREE MURDER        PARK PROPERTY   False   \n",
       "3  0110     HOMICIDE  FIRST DEGREE MURDER           RESTAURANT   False   \n",
       "4  0110     HOMICIDE  FIRST DEGREE MURDER               GARAGE   False   \n",
       "5  0110     HOMICIDE  FIRST DEGREE MURDER               STREET    True   \n",
       "6  0110     HOMICIDE  FIRST DEGREE MURDER               STREET    True   \n",
       "7  0110     HOMICIDE  FIRST DEGREE MURDER               STREET   False   \n",
       "8  0110     HOMICIDE  FIRST DEGREE MURDER                PORCH   False   \n",
       "9  0110     HOMICIDE  FIRST DEGREE MURDER                ALLEY   False   \n",
       "\n",
       "               ...                Ward  Community Area  FBI Code  \\\n",
       "0              ...                 6.0            69.0       01A   \n",
       "1              ...                24.0            25.0       01A   \n",
       "2              ...                18.0            66.0       01A   \n",
       "3              ...                37.0            25.0       01A   \n",
       "4              ...                22.0            30.0       01A   \n",
       "5              ...                 2.0            28.0       01A   \n",
       "6              ...                25.0            31.0       01A   \n",
       "7              ...                 5.0            43.0       01A   \n",
       "8              ...                16.0            66.0       01A   \n",
       "9              ...                14.0            63.0       01A   \n",
       "\n",
       "   X Coordinate  Y Coordinate  Year              Updated On   Latitude  \\\n",
       "0     1178207.0     1855308.0  2008  08/17/2015 03:03:40 PM  41.758276   \n",
       "1     1144200.0     1895857.0  2008  08/17/2015 03:03:40 PM  41.870252   \n",
       "2     1157314.0     1859778.0  2008  08/17/2015 03:03:40 PM  41.770990   \n",
       "3     1141065.0     1904824.0  2008  08/17/2015 03:03:40 PM  41.894917   \n",
       "4     1154123.0     1886297.0  2008  08/17/2015 03:03:40 PM  41.843826   \n",
       "5     1166321.0     1893492.0  2008  08/17/2015 03:03:40 PM  41.863318   \n",
       "6     1163192.0     1888742.0  2008  08/17/2015 03:03:40 PM  41.850350   \n",
       "7     1192078.0     1859337.0  2008  08/17/2015 03:03:40 PM  41.769006   \n",
       "8     1155755.0     1864457.0  2008  08/17/2015 03:03:40 PM  41.783862   \n",
       "9     1160775.0     1870785.0  2008  08/17/2015 03:03:40 PM  41.801124   \n",
       "\n",
       "   Longitude                       Location  \n",
       "0 -87.622451  (41.758275857, -87.622451031)  \n",
       "1 -87.746069   (41.87025207, -87.746069362)  \n",
       "2 -87.698901  (41.770990476, -87.698901469)  \n",
       "3 -87.757358  (41.894916924, -87.757358147)  \n",
       "4 -87.709893  (41.843826272, -87.709893465)  \n",
       "5 -87.664924  (41.863318307, -87.664923682)  \n",
       "6 -87.676543  (41.850350125, -87.676543351)  \n",
       "7 -87.571485  (41.769005966, -87.571485086)  \n",
       "8 -87.704491  (41.783861768, -87.704490821)  \n",
       "9 -87.685911  (41.801124416, -87.685910818)  \n",
       "\n",
       "[10 rows x 23 columns]"
      ]
     },
     "execution_count": 4,
     "metadata": {},
     "output_type": "execute_result"
    }
   ],
   "source": [
    "chicago_2008.head(10)"
   ]
  },
  {
   "cell_type": "code",
   "execution_count": 5,
   "metadata": {},
   "outputs": [
    {
     "data": {
      "text/plain": [
       "(2688710, 23)"
      ]
     },
     "execution_count": 5,
     "metadata": {},
     "output_type": "execute_result"
    }
   ],
   "source": [
    "chicago_2008.shape"
   ]
  },
  {
   "cell_type": "markdown",
   "metadata": {},
   "source": [
    "The types of the 23 columns:"
   ]
  },
  {
   "cell_type": "code",
   "execution_count": 6,
   "metadata": {
    "scrolled": true
   },
   "outputs": [
    {
     "data": {
      "text/plain": [
       "Unnamed: 0                int64\n",
       "ID                        int64\n",
       "Case Number              object\n",
       "Date                     object\n",
       "Block                    object\n",
       "IUCR                     object\n",
       "Primary Type             object\n",
       "Description              object\n",
       "Location Description     object\n",
       "Arrest                     bool\n",
       "Domestic                   bool\n",
       "Beat                      int64\n",
       "District                float64\n",
       "Ward                    float64\n",
       "Community Area          float64\n",
       "FBI Code                 object\n",
       "X Coordinate            float64\n",
       "Y Coordinate            float64\n",
       "Year                      int64\n",
       "Updated On               object\n",
       "Latitude                float64\n",
       "Longitude               float64\n",
       "Location                 object\n",
       "dtype: object"
      ]
     },
     "execution_count": 6,
     "metadata": {},
     "output_type": "execute_result"
    }
   ],
   "source": [
    "chicago_2008.dtypes"
   ]
  },
  {
   "cell_type": "markdown",
   "metadata": {},
   "source": [
    "Numerically describing all the integer/float variables:"
   ]
  },
  {
   "cell_type": "code",
   "execution_count": 7,
   "metadata": {
    "scrolled": true
   },
   "outputs": [
    {
     "data": {
      "text/html": [
       "<div>\n",
       "<style scoped>\n",
       "    .dataframe tbody tr th:only-of-type {\n",
       "        vertical-align: middle;\n",
       "    }\n",
       "\n",
       "    .dataframe tbody tr th {\n",
       "        vertical-align: top;\n",
       "    }\n",
       "\n",
       "    .dataframe thead th {\n",
       "        text-align: right;\n",
       "    }\n",
       "</style>\n",
       "<table border=\"1\" class=\"dataframe\">\n",
       "  <thead>\n",
       "    <tr style=\"text-align: right;\">\n",
       "      <th></th>\n",
       "      <th>Unnamed: 0</th>\n",
       "      <th>ID</th>\n",
       "      <th>Beat</th>\n",
       "      <th>District</th>\n",
       "      <th>Ward</th>\n",
       "      <th>Community Area</th>\n",
       "      <th>X Coordinate</th>\n",
       "      <th>Y Coordinate</th>\n",
       "      <th>Year</th>\n",
       "      <th>Latitude</th>\n",
       "      <th>Longitude</th>\n",
       "    </tr>\n",
       "  </thead>\n",
       "  <tbody>\n",
       "    <tr>\n",
       "      <th>count</th>\n",
       "      <td>2.688710e+06</td>\n",
       "      <td>2.688710e+06</td>\n",
       "      <td>2.688710e+06</td>\n",
       "      <td>2.688627e+06</td>\n",
       "      <td>2.688647e+06</td>\n",
       "      <td>2.687255e+06</td>\n",
       "      <td>2.660065e+06</td>\n",
       "      <td>2.660065e+06</td>\n",
       "      <td>2.688710e+06</td>\n",
       "      <td>2.660065e+06</td>\n",
       "      <td>2.660065e+06</td>\n",
       "    </tr>\n",
       "    <tr>\n",
       "      <th>mean</th>\n",
       "      <td>1.563305e+06</td>\n",
       "      <td>7.101744e+06</td>\n",
       "      <td>1.206917e+03</td>\n",
       "      <td>1.136992e+01</td>\n",
       "      <td>2.269217e+01</td>\n",
       "      <td>3.794003e+01</td>\n",
       "      <td>1.164309e+06</td>\n",
       "      <td>1.885184e+06</td>\n",
       "      <td>2.009206e+03</td>\n",
       "      <td>4.184054e+01</td>\n",
       "      <td>-8.767257e+01</td>\n",
       "    </tr>\n",
       "    <tr>\n",
       "      <th>std</th>\n",
       "      <td>4.243902e+05</td>\n",
       "      <td>6.777315e+05</td>\n",
       "      <td>7.063586e+02</td>\n",
       "      <td>6.952451e+00</td>\n",
       "      <td>1.372523e+01</td>\n",
       "      <td>2.165920e+01</td>\n",
       "      <td>1.873467e+04</td>\n",
       "      <td>3.495569e+04</td>\n",
       "      <td>1.029081e+00</td>\n",
       "      <td>9.626146e-02</td>\n",
       "      <td>6.731845e-02</td>\n",
       "    </tr>\n",
       "    <tr>\n",
       "      <th>min</th>\n",
       "      <td>3.880000e+02</td>\n",
       "      <td>4.379000e+03</td>\n",
       "      <td>1.110000e+02</td>\n",
       "      <td>1.000000e+00</td>\n",
       "      <td>1.000000e+00</td>\n",
       "      <td>0.000000e+00</td>\n",
       "      <td>0.000000e+00</td>\n",
       "      <td>0.000000e+00</td>\n",
       "      <td>2.008000e+03</td>\n",
       "      <td>3.661945e+01</td>\n",
       "      <td>-9.168657e+01</td>\n",
       "    </tr>\n",
       "    <tr>\n",
       "      <th>25%</th>\n",
       "      <td>1.211310e+06</td>\n",
       "      <td>6.556011e+06</td>\n",
       "      <td>6.240000e+02</td>\n",
       "      <td>6.000000e+00</td>\n",
       "      <td>1.000000e+01</td>\n",
       "      <td>2.300000e+01</td>\n",
       "      <td>1.152696e+06</td>\n",
       "      <td>1.858578e+06</td>\n",
       "      <td>2.008000e+03</td>\n",
       "      <td>4.176728e+01</td>\n",
       "      <td>-8.771471e+01</td>\n",
       "    </tr>\n",
       "    <tr>\n",
       "      <th>50%</th>\n",
       "      <td>1.547398e+06</td>\n",
       "      <td>7.089937e+06</td>\n",
       "      <td>1.111000e+03</td>\n",
       "      <td>1.000000e+01</td>\n",
       "      <td>2.200000e+01</td>\n",
       "      <td>3.200000e+01</td>\n",
       "      <td>1.165745e+06</td>\n",
       "      <td>1.889560e+06</td>\n",
       "      <td>2.009000e+03</td>\n",
       "      <td>4.185265e+01</td>\n",
       "      <td>-8.766704e+01</td>\n",
       "    </tr>\n",
       "    <tr>\n",
       "      <th>75%</th>\n",
       "      <td>1.883489e+06</td>\n",
       "      <td>7.606936e+06</td>\n",
       "      <td>1.732000e+03</td>\n",
       "      <td>1.700000e+01</td>\n",
       "      <td>3.400000e+01</td>\n",
       "      <td>5.800000e+01</td>\n",
       "      <td>1.176264e+06</td>\n",
       "      <td>1.909531e+06</td>\n",
       "      <td>2.010000e+03</td>\n",
       "      <td>4.190754e+01</td>\n",
       "      <td>-8.762891e+01</td>\n",
       "    </tr>\n",
       "    <tr>\n",
       "      <th>max</th>\n",
       "      <td>6.254077e+06</td>\n",
       "      <td>1.082723e+07</td>\n",
       "      <td>2.535000e+03</td>\n",
       "      <td>3.100000e+01</td>\n",
       "      <td>5.000000e+01</td>\n",
       "      <td>7.700000e+01</td>\n",
       "      <td>1.205119e+06</td>\n",
       "      <td>1.951511e+06</td>\n",
       "      <td>2.011000e+03</td>\n",
       "      <td>4.202255e+01</td>\n",
       "      <td>-8.752453e+01</td>\n",
       "    </tr>\n",
       "  </tbody>\n",
       "</table>\n",
       "</div>"
      ],
      "text/plain": [
       "         Unnamed: 0            ID          Beat      District          Ward  \\\n",
       "count  2.688710e+06  2.688710e+06  2.688710e+06  2.688627e+06  2.688647e+06   \n",
       "mean   1.563305e+06  7.101744e+06  1.206917e+03  1.136992e+01  2.269217e+01   \n",
       "std    4.243902e+05  6.777315e+05  7.063586e+02  6.952451e+00  1.372523e+01   \n",
       "min    3.880000e+02  4.379000e+03  1.110000e+02  1.000000e+00  1.000000e+00   \n",
       "25%    1.211310e+06  6.556011e+06  6.240000e+02  6.000000e+00  1.000000e+01   \n",
       "50%    1.547398e+06  7.089937e+06  1.111000e+03  1.000000e+01  2.200000e+01   \n",
       "75%    1.883489e+06  7.606936e+06  1.732000e+03  1.700000e+01  3.400000e+01   \n",
       "max    6.254077e+06  1.082723e+07  2.535000e+03  3.100000e+01  5.000000e+01   \n",
       "\n",
       "       Community Area  X Coordinate  Y Coordinate          Year      Latitude  \\\n",
       "count    2.687255e+06  2.660065e+06  2.660065e+06  2.688710e+06  2.660065e+06   \n",
       "mean     3.794003e+01  1.164309e+06  1.885184e+06  2.009206e+03  4.184054e+01   \n",
       "std      2.165920e+01  1.873467e+04  3.495569e+04  1.029081e+00  9.626146e-02   \n",
       "min      0.000000e+00  0.000000e+00  0.000000e+00  2.008000e+03  3.661945e+01   \n",
       "25%      2.300000e+01  1.152696e+06  1.858578e+06  2.008000e+03  4.176728e+01   \n",
       "50%      3.200000e+01  1.165745e+06  1.889560e+06  2.009000e+03  4.185265e+01   \n",
       "75%      5.800000e+01  1.176264e+06  1.909531e+06  2.010000e+03  4.190754e+01   \n",
       "max      7.700000e+01  1.205119e+06  1.951511e+06  2.011000e+03  4.202255e+01   \n",
       "\n",
       "          Longitude  \n",
       "count  2.660065e+06  \n",
       "mean  -8.767257e+01  \n",
       "std    6.731845e-02  \n",
       "min   -9.168657e+01  \n",
       "25%   -8.771471e+01  \n",
       "50%   -8.766704e+01  \n",
       "75%   -8.762891e+01  \n",
       "max   -8.752453e+01  "
      ]
     },
     "execution_count": 7,
     "metadata": {},
     "output_type": "execute_result"
    }
   ],
   "source": [
    "chicago_2008.describe()"
   ]
  },
  {
   "cell_type": "code",
   "execution_count": 8,
   "metadata": {
    "scrolled": true
   },
   "outputs": [
    {
     "data": {
      "text/plain": [
       "Case Number                 6\n",
       "Location Description      291\n",
       "District                   83\n",
       "Ward                       63\n",
       "Community Area           1455\n",
       "X Coordinate            28645\n",
       "Y Coordinate            28645\n",
       "Latitude                28645\n",
       "Longitude               28645\n",
       "Location                28645\n",
       "dtype: int64"
      ]
     },
     "execution_count": 8,
     "metadata": {},
     "output_type": "execute_result"
    }
   ],
   "source": [
    "null_columns=chicago_2008.columns[chicago_2008.isnull().any()]\n",
    "chicago_2008[null_columns].isnull().sum()"
   ]
  },
  {
   "cell_type": "code",
   "execution_count": 9,
   "metadata": {
    "scrolled": false
   },
   "outputs": [],
   "source": [
    "#print(chicago_2008[chicago_2008[\"Latitude\"].isnull()][null_columns])"
   ]
  },
  {
   "cell_type": "markdown",
   "metadata": {},
   "source": [
    "Out of 2688710 rows, 28645 includes NaNs for the locations. Since the whole task will be evolving location data and distances, we see no other choice than to drop these since they cannot be imputed. For the rest of data the NaNs are kept for now, since the NaNs will play no role at this point in time being in the meta data:"
   ]
  },
  {
   "cell_type": "code",
   "execution_count": 10,
   "metadata": {},
   "outputs": [
    {
     "data": {
      "text/plain": [
       "(2660065, 23)"
      ]
     },
     "execution_count": 10,
     "metadata": {},
     "output_type": "execute_result"
    }
   ],
   "source": [
    "chicago_2008 = chicago_2008.dropna(subset=['Latitude', 'Longitude'])\n",
    "chicago_2008.shape"
   ]
  },
  {
   "cell_type": "code",
   "execution_count": 11,
   "metadata": {},
   "outputs": [
    {
     "data": {
      "text/plain": [
       "array([41.75827586, 41.87025207, 41.77099048, ..., 41.68503468,\n",
       "       41.69054684, 41.86010116])"
      ]
     },
     "execution_count": 11,
     "metadata": {},
     "output_type": "execute_result"
    }
   ],
   "source": [
    "chicago_2008[\"Latitude\"].unique()"
   ]
  },
  {
   "cell_type": "code",
   "execution_count": 12,
   "metadata": {
    "scrolled": true
   },
   "outputs": [
    {
     "data": {
      "text/html": [
       "<div>\n",
       "<style scoped>\n",
       "    .dataframe tbody tr th:only-of-type {\n",
       "        vertical-align: middle;\n",
       "    }\n",
       "\n",
       "    .dataframe tbody tr th {\n",
       "        vertical-align: top;\n",
       "    }\n",
       "\n",
       "    .dataframe thead th {\n",
       "        text-align: right;\n",
       "    }\n",
       "</style>\n",
       "<table border=\"1\" class=\"dataframe\">\n",
       "  <thead>\n",
       "    <tr style=\"text-align: right;\">\n",
       "      <th></th>\n",
       "      <th>Case Number</th>\n",
       "      <th>Date</th>\n",
       "      <th>Block</th>\n",
       "      <th>IUCR</th>\n",
       "      <th>Primary Type</th>\n",
       "      <th>Description</th>\n",
       "      <th>Location Description</th>\n",
       "      <th>FBI Code</th>\n",
       "      <th>Updated On</th>\n",
       "      <th>Location</th>\n",
       "    </tr>\n",
       "  </thead>\n",
       "  <tbody>\n",
       "    <tr>\n",
       "      <th>count</th>\n",
       "      <td>2660059</td>\n",
       "      <td>2660065</td>\n",
       "      <td>2660065</td>\n",
       "      <td>2660065</td>\n",
       "      <td>2660065</td>\n",
       "      <td>2660065</td>\n",
       "      <td>2659832</td>\n",
       "      <td>2660065</td>\n",
       "      <td>2660065</td>\n",
       "      <td>2660065</td>\n",
       "    </tr>\n",
       "    <tr>\n",
       "      <th>unique</th>\n",
       "      <td>1525471</td>\n",
       "      <td>569101</td>\n",
       "      <td>32058</td>\n",
       "      <td>353</td>\n",
       "      <td>28</td>\n",
       "      <td>330</td>\n",
       "      <td>134</td>\n",
       "      <td>26</td>\n",
       "      <td>66</td>\n",
       "      <td>385309</td>\n",
       "    </tr>\n",
       "    <tr>\n",
       "      <th>top</th>\n",
       "      <td>HP296582</td>\n",
       "      <td>01/01/2008 12:01:00 AM</td>\n",
       "      <td>100XX W OHARE ST</td>\n",
       "      <td>0486</td>\n",
       "      <td>THEFT</td>\n",
       "      <td>SIMPLE</td>\n",
       "      <td>STREET</td>\n",
       "      <td>06</td>\n",
       "      <td>02/04/2016 06:33:39 AM</td>\n",
       "      <td>(41.976290414, -87.905227221)</td>\n",
       "    </tr>\n",
       "    <tr>\n",
       "      <th>freq</th>\n",
       "      <td>5</td>\n",
       "      <td>332</td>\n",
       "      <td>5710</td>\n",
       "      <td>226475</td>\n",
       "      <td>550516</td>\n",
       "      <td>270267</td>\n",
       "      <td>677469</td>\n",
       "      <td>550516</td>\n",
       "      <td>2658155</td>\n",
       "      <td>5710</td>\n",
       "    </tr>\n",
       "  </tbody>\n",
       "</table>\n",
       "</div>"
      ],
      "text/plain": [
       "       Case Number                    Date             Block     IUCR  \\\n",
       "count      2660059                 2660065           2660065  2660065   \n",
       "unique     1525471                  569101             32058      353   \n",
       "top       HP296582  01/01/2008 12:01:00 AM  100XX W OHARE ST     0486   \n",
       "freq             5                     332              5710   226475   \n",
       "\n",
       "       Primary Type Description Location Description FBI Code  \\\n",
       "count       2660065     2660065              2659832  2660065   \n",
       "unique           28         330                  134       26   \n",
       "top           THEFT      SIMPLE               STREET       06   \n",
       "freq         550516      270267               677469   550516   \n",
       "\n",
       "                    Updated On                       Location  \n",
       "count                  2660065                        2660065  \n",
       "unique                      66                         385309  \n",
       "top     02/04/2016 06:33:39 AM  (41.976290414, -87.905227221)  \n",
       "freq                   2658155                           5710  "
      ]
     },
     "execution_count": 12,
     "metadata": {},
     "output_type": "execute_result"
    }
   ],
   "source": [
    "chicago_2008.describe(include=[np.object])"
   ]
  },
  {
   "cell_type": "code",
   "execution_count": 13,
   "metadata": {},
   "outputs": [
    {
     "data": {
      "text/plain": [
       "array(['HOMICIDE', 'BATTERY', 'THEFT', 'ASSAULT', 'STALKING', 'ARSON',\n",
       "       'ROBBERY', 'NARCOTICS', 'BURGLARY', 'WEAPONS VIOLATION',\n",
       "       'OTHER OFFENSE', 'CRIMINAL DAMAGE', 'CRIMINAL TRESPASS',\n",
       "       'MOTOR VEHICLE THEFT', 'SEX OFFENSE', 'LIQUOR LAW VIOLATION',\n",
       "       'PUBLIC PEACE VIOLATION', 'DECEPTIVE PRACTICE',\n",
       "       'CRIM SEXUAL ASSAULT', 'OFFENSE INVOLVING CHILDREN',\n",
       "       'PROSTITUTION', 'GAMBLING', 'INTERFERENCE WITH PUBLIC OFFICER',\n",
       "       'INTIMIDATION', 'KIDNAPPING', 'OBSCENITY', 'PUBLIC INDECENCY',\n",
       "       'OTHER NARCOTIC VIOLATION'], dtype=object)"
      ]
     },
     "execution_count": 13,
     "metadata": {},
     "output_type": "execute_result"
    }
   ],
   "source": [
    "chicago_2008[\"Primary Type\"].unique()"
   ]
  },
  {
   "cell_type": "markdown",
   "metadata": {},
   "source": []
  },
  {
   "cell_type": "markdown",
   "metadata": {},
   "source": [
    "***STREETLIGHTS IN CHICAGO DATA***\n",
    "\n",
    "We now read in the streetlights data in order to preprocess this accordingly as well:"
   ]
  },
  {
   "cell_type": "code",
   "execution_count": 14,
   "metadata": {},
   "outputs": [],
   "source": [
    "streetlights = pd.read_csv(DATA_DIR + 'Map_of_Street_Lights.csv')"
   ]
  },
  {
   "cell_type": "code",
   "execution_count": 15,
   "metadata": {},
   "outputs": [
    {
     "data": {
      "text/html": [
       "<div>\n",
       "<style scoped>\n",
       "    .dataframe tbody tr th:only-of-type {\n",
       "        vertical-align: middle;\n",
       "    }\n",
       "\n",
       "    .dataframe tbody tr th {\n",
       "        vertical-align: top;\n",
       "    }\n",
       "\n",
       "    .dataframe thead th {\n",
       "        text-align: right;\n",
       "    }\n",
       "</style>\n",
       "<table border=\"1\" class=\"dataframe\">\n",
       "  <thead>\n",
       "    <tr style=\"text-align: right;\">\n",
       "      <th></th>\n",
       "      <th>Creation Date</th>\n",
       "      <th>Status</th>\n",
       "      <th>Completion Date</th>\n",
       "      <th>Service Request Number</th>\n",
       "      <th>Type of Service Request</th>\n",
       "      <th>Street Address</th>\n",
       "      <th>ZIP Code</th>\n",
       "      <th>X Coordinate</th>\n",
       "      <th>Y Coordinate</th>\n",
       "      <th>Latitude</th>\n",
       "      <th>Longitude</th>\n",
       "      <th>Location</th>\n",
       "    </tr>\n",
       "  </thead>\n",
       "  <tbody>\n",
       "    <tr>\n",
       "      <th>0</th>\n",
       "      <td>1/1/11</td>\n",
       "      <td>Completed - Dup</td>\n",
       "      <td>1/1/11</td>\n",
       "      <td>11-00003036</td>\n",
       "      <td>Street Lights - All/Out</td>\n",
       "      <td>5143 S KENNETH AVE</td>\n",
       "      <td>60632.0</td>\n",
       "      <td>1147567.430</td>\n",
       "      <td>1870111.208</td>\n",
       "      <td>41.799538</td>\n",
       "      <td>-87.734365</td>\n",
       "      <td>(41.799538203122005, -87.73436542052076)</td>\n",
       "    </tr>\n",
       "    <tr>\n",
       "      <th>1</th>\n",
       "      <td>1/1/11</td>\n",
       "      <td>Completed - Dup</td>\n",
       "      <td>1/2/11</td>\n",
       "      <td>11-00003203</td>\n",
       "      <td>Street Lights - All/Out</td>\n",
       "      <td>5400 S SAWYER AVE</td>\n",
       "      <td>60632.0</td>\n",
       "      <td>1155631.685</td>\n",
       "      <td>1868632.133</td>\n",
       "      <td>41.795321</td>\n",
       "      <td>-87.704831</td>\n",
       "      <td>(41.795321405681925, -87.704831037907)</td>\n",
       "    </tr>\n",
       "    <tr>\n",
       "      <th>2</th>\n",
       "      <td>1/1/11</td>\n",
       "      <td>Completed - Dup</td>\n",
       "      <td>1/2/11</td>\n",
       "      <td>11-00003443</td>\n",
       "      <td>Street Lights - All/Out</td>\n",
       "      <td>1162 W 20TH PL</td>\n",
       "      <td>60608.0</td>\n",
       "      <td>1168968.306</td>\n",
       "      <td>1890237.390</td>\n",
       "      <td>41.854330</td>\n",
       "      <td>-87.655300</td>\n",
       "      <td>(41.854330415047066, -87.65530003165237)</td>\n",
       "    </tr>\n",
       "    <tr>\n",
       "      <th>3</th>\n",
       "      <td>1/1/11</td>\n",
       "      <td>Completed - Dup</td>\n",
       "      <td>1/3/11</td>\n",
       "      <td>11-00000585</td>\n",
       "      <td>Street Lights - All/Out</td>\n",
       "      <td>736 E 92ND ST</td>\n",
       "      <td>60619.0</td>\n",
       "      <td>1182750.308</td>\n",
       "      <td>1844133.281</td>\n",
       "      <td>41.727507</td>\n",
       "      <td>-87.606146</td>\n",
       "      <td>(41.72750696638104, -87.60614646759406)</td>\n",
       "    </tr>\n",
       "    <tr>\n",
       "      <th>4</th>\n",
       "      <td>1/1/11</td>\n",
       "      <td>Completed - Dup</td>\n",
       "      <td>1/3/11</td>\n",
       "      <td>11-00001199</td>\n",
       "      <td>Street Lights - All/Out</td>\n",
       "      <td>1701 W 43RD ST</td>\n",
       "      <td>60609.0</td>\n",
       "      <td>1165717.320</td>\n",
       "      <td>1876188.554</td>\n",
       "      <td>41.815849</td>\n",
       "      <td>-87.667632</td>\n",
       "      <td>(41.81584880428669, -87.66763204691361)</td>\n",
       "    </tr>\n",
       "  </tbody>\n",
       "</table>\n",
       "</div>"
      ],
      "text/plain": [
       "  Creation Date           Status Completion Date Service Request Number  \\\n",
       "0        1/1/11  Completed - Dup          1/1/11            11-00003036   \n",
       "1        1/1/11  Completed - Dup          1/2/11            11-00003203   \n",
       "2        1/1/11  Completed - Dup          1/2/11            11-00003443   \n",
       "3        1/1/11  Completed - Dup          1/3/11            11-00000585   \n",
       "4        1/1/11  Completed - Dup          1/3/11            11-00001199   \n",
       "\n",
       "   Type of Service Request      Street Address  ZIP Code  X Coordinate  \\\n",
       "0  Street Lights - All/Out  5143 S KENNETH AVE   60632.0   1147567.430   \n",
       "1  Street Lights - All/Out   5400 S SAWYER AVE   60632.0   1155631.685   \n",
       "2  Street Lights - All/Out      1162 W 20TH PL   60608.0   1168968.306   \n",
       "3  Street Lights - All/Out       736 E 92ND ST   60619.0   1182750.308   \n",
       "4  Street Lights - All/Out      1701 W 43RD ST   60609.0   1165717.320   \n",
       "\n",
       "   Y Coordinate   Latitude  Longitude  \\\n",
       "0   1870111.208  41.799538 -87.734365   \n",
       "1   1868632.133  41.795321 -87.704831   \n",
       "2   1890237.390  41.854330 -87.655300   \n",
       "3   1844133.281  41.727507 -87.606146   \n",
       "4   1876188.554  41.815849 -87.667632   \n",
       "\n",
       "                                   Location  \n",
       "0  (41.799538203122005, -87.73436542052076)  \n",
       "1    (41.795321405681925, -87.704831037907)  \n",
       "2  (41.854330415047066, -87.65530003165237)  \n",
       "3   (41.72750696638104, -87.60614646759406)  \n",
       "4   (41.81584880428669, -87.66763204691361)  "
      ]
     },
     "execution_count": 15,
     "metadata": {},
     "output_type": "execute_result"
    }
   ],
   "source": [
    "streetlights.head()"
   ]
  },
  {
   "cell_type": "code",
   "execution_count": 16,
   "metadata": {},
   "outputs": [
    {
     "data": {
      "text/plain": [
       "(294646, 12)"
      ]
     },
     "execution_count": 16,
     "metadata": {},
     "output_type": "execute_result"
    }
   ],
   "source": [
    "streetlights.shape"
   ]
  },
  {
   "cell_type": "code",
   "execution_count": 17,
   "metadata": {
    "scrolled": true
   },
   "outputs": [
    {
     "data": {
      "text/html": [
       "<div>\n",
       "<style scoped>\n",
       "    .dataframe tbody tr th:only-of-type {\n",
       "        vertical-align: middle;\n",
       "    }\n",
       "\n",
       "    .dataframe tbody tr th {\n",
       "        vertical-align: top;\n",
       "    }\n",
       "\n",
       "    .dataframe thead th {\n",
       "        text-align: right;\n",
       "    }\n",
       "</style>\n",
       "<table border=\"1\" class=\"dataframe\">\n",
       "  <thead>\n",
       "    <tr style=\"text-align: right;\">\n",
       "      <th></th>\n",
       "      <th>Creation Date</th>\n",
       "      <th>Status</th>\n",
       "      <th>Completion Date</th>\n",
       "      <th>Service Request Number</th>\n",
       "      <th>Type of Service Request</th>\n",
       "      <th>Street Address</th>\n",
       "      <th>Location</th>\n",
       "    </tr>\n",
       "  </thead>\n",
       "  <tbody>\n",
       "    <tr>\n",
       "      <th>count</th>\n",
       "      <td>294646</td>\n",
       "      <td>294646</td>\n",
       "      <td>294525</td>\n",
       "      <td>294646</td>\n",
       "      <td>294646</td>\n",
       "      <td>294644</td>\n",
       "      <td>294485</td>\n",
       "    </tr>\n",
       "    <tr>\n",
       "      <th>unique</th>\n",
       "      <td>2903</td>\n",
       "      <td>4</td>\n",
       "      <td>2794</td>\n",
       "      <td>294458</td>\n",
       "      <td>1</td>\n",
       "      <td>109880</td>\n",
       "      <td>101122</td>\n",
       "    </tr>\n",
       "    <tr>\n",
       "      <th>top</th>\n",
       "      <td>10/24/11</td>\n",
       "      <td>Completed - Dup</td>\n",
       "      <td>10/5/11</td>\n",
       "      <td>13-01289061</td>\n",
       "      <td>Street Lights - All/Out</td>\n",
       "      <td>8300 S YATES BLVD</td>\n",
       "      <td>(41.7444613173406, -87.56612547505442)</td>\n",
       "    </tr>\n",
       "    <tr>\n",
       "      <th>freq</th>\n",
       "      <td>613</td>\n",
       "      <td>149337</td>\n",
       "      <td>743</td>\n",
       "      <td>3</td>\n",
       "      <td>294646</td>\n",
       "      <td>185</td>\n",
       "      <td>206</td>\n",
       "    </tr>\n",
       "  </tbody>\n",
       "</table>\n",
       "</div>"
      ],
      "text/plain": [
       "       Creation Date           Status Completion Date Service Request Number  \\\n",
       "count         294646           294646          294525                 294646   \n",
       "unique          2903                4            2794                 294458   \n",
       "top         10/24/11  Completed - Dup         10/5/11            13-01289061   \n",
       "freq             613           149337             743                      3   \n",
       "\n",
       "        Type of Service Request     Street Address  \\\n",
       "count                    294646             294644   \n",
       "unique                        1             109880   \n",
       "top     Street Lights - All/Out  8300 S YATES BLVD   \n",
       "freq                     294646                185   \n",
       "\n",
       "                                      Location  \n",
       "count                                   294485  \n",
       "unique                                  101122  \n",
       "top     (41.7444613173406, -87.56612547505442)  \n",
       "freq                                       206  "
      ]
     },
     "execution_count": 17,
     "metadata": {},
     "output_type": "execute_result"
    }
   ],
   "source": [
    "streetlights.describe(include=[np.object])"
   ]
  },
  {
   "cell_type": "code",
   "execution_count": 18,
   "metadata": {
    "scrolled": true
   },
   "outputs": [
    {
     "data": {
      "text/plain": [
       "Completion Date    121\n",
       "Street Address       2\n",
       "ZIP Code           604\n",
       "X Coordinate       161\n",
       "Y Coordinate       161\n",
       "Latitude           161\n",
       "Longitude          161\n",
       "Location           161\n",
       "dtype: int64"
      ]
     },
     "execution_count": 18,
     "metadata": {},
     "output_type": "execute_result"
    }
   ],
   "source": [
    "null_columns=streetlights.columns[streetlights.isnull().any()]\n",
    "streetlights[null_columns].isnull().sum()"
   ]
  },
  {
   "cell_type": "markdown",
   "metadata": {},
   "source": [
    "Same as before, we observe 161 critical missing values since these are for the locations. The ZIP code can be imputed from the location, same for street address, whereas completion date is irrelevant for our project:"
   ]
  },
  {
   "cell_type": "code",
   "execution_count": 19,
   "metadata": {},
   "outputs": [
    {
     "data": {
      "text/plain": [
       "(294485, 12)"
      ]
     },
     "execution_count": 19,
     "metadata": {},
     "output_type": "execute_result"
    }
   ],
   "source": [
    "streetlights = streetlights.dropna(subset=['Latitude', 'Longitude'])\n",
    "streetlights.shape"
   ]
  },
  {
   "cell_type": "markdown",
   "metadata": {},
   "source": [
    "https://stackoverflow.com/questions/44446862/calculate-distance-between-latitude-and-longitude-in-dataframe"
   ]
  },
  {
   "cell_type": "markdown",
   "metadata": {},
   "source": [
    "https://stackoverflow.com/questions/47534715/get-nearest-point-from-each-other-in-pandas-dataframe"
   ]
  },
  {
   "cell_type": "markdown",
   "metadata": {},
   "source": [
    "***POLICESTATIONS IN CHICAGO DATA***\n",
    "\n",
    "Same as before, we will read in the data for the policestations and do explorative analysis on this dataset:"
   ]
  },
  {
   "cell_type": "code",
   "execution_count": 20,
   "metadata": {},
   "outputs": [],
   "source": [
    "policestations = pd.read_csv(DATA_DIR + 'police-stations.csv')"
   ]
  },
  {
   "cell_type": "code",
   "execution_count": 21,
   "metadata": {
    "scrolled": true
   },
   "outputs": [
    {
     "data": {
      "text/html": [
       "<div>\n",
       "<style scoped>\n",
       "    .dataframe tbody tr th:only-of-type {\n",
       "        vertical-align: middle;\n",
       "    }\n",
       "\n",
       "    .dataframe tbody tr th {\n",
       "        vertical-align: top;\n",
       "    }\n",
       "\n",
       "    .dataframe thead th {\n",
       "        text-align: right;\n",
       "    }\n",
       "</style>\n",
       "<table border=\"1\" class=\"dataframe\">\n",
       "  <thead>\n",
       "    <tr style=\"text-align: right;\">\n",
       "      <th></th>\n",
       "      <th>DISTRICT</th>\n",
       "      <th>DISTRICT NAME</th>\n",
       "      <th>ADDRESS</th>\n",
       "      <th>CITY</th>\n",
       "      <th>STATE</th>\n",
       "      <th>ZIP</th>\n",
       "      <th>WEBSITE</th>\n",
       "      <th>PHONE</th>\n",
       "      <th>FAX</th>\n",
       "      <th>TTY</th>\n",
       "      <th>X COORDINATE</th>\n",
       "      <th>Y COORDINATE</th>\n",
       "      <th>LATITUDE</th>\n",
       "      <th>LONGITUDE</th>\n",
       "      <th>LOCATION</th>\n",
       "    </tr>\n",
       "  </thead>\n",
       "  <tbody>\n",
       "    <tr>\n",
       "      <th>0</th>\n",
       "      <td>1</td>\n",
       "      <td>Central</td>\n",
       "      <td>1718 S State St</td>\n",
       "      <td>Chicago</td>\n",
       "      <td>IL</td>\n",
       "      <td>60616</td>\n",
       "      <td>{'url': 'http://home.chicagopolice.org/communi...</td>\n",
       "      <td>312-745-4290</td>\n",
       "      <td>312-745-3694</td>\n",
       "      <td>312-745-3693</td>\n",
       "      <td>1176569.052</td>\n",
       "      <td>1891771.704</td>\n",
       "      <td>41.858373</td>\n",
       "      <td>-87.627356</td>\n",
       "      <td>{'needs_recoding': False, 'longitude': '-87.62...</td>\n",
       "    </tr>\n",
       "    <tr>\n",
       "      <th>1</th>\n",
       "      <td>2</td>\n",
       "      <td>Wentworth</td>\n",
       "      <td>5101 S Wentworth Ave</td>\n",
       "      <td>Chicago</td>\n",
       "      <td>IL</td>\n",
       "      <td>60609</td>\n",
       "      <td>{'url': 'http://home.chicagopolice.org/communi...</td>\n",
       "      <td>312-747-8366</td>\n",
       "      <td>312-747-5396</td>\n",
       "      <td>312-747-6656</td>\n",
       "      <td>1175864.837</td>\n",
       "      <td>1871153.753</td>\n",
       "      <td>41.801811</td>\n",
       "      <td>-87.630560</td>\n",
       "      <td>{'needs_recoding': False, 'longitude': '-87.63...</td>\n",
       "    </tr>\n",
       "    <tr>\n",
       "      <th>2</th>\n",
       "      <td>3</td>\n",
       "      <td>Grand Crossing</td>\n",
       "      <td>7040 S Cottage Grove Ave</td>\n",
       "      <td>Chicago</td>\n",
       "      <td>IL</td>\n",
       "      <td>60637</td>\n",
       "      <td>{'url': 'http://home.chicagopolice.org/communi...</td>\n",
       "      <td>312-747-8201</td>\n",
       "      <td>312-747-5479</td>\n",
       "      <td>312-747-9168</td>\n",
       "      <td>1182739.183</td>\n",
       "      <td>1858317.732</td>\n",
       "      <td>41.766431</td>\n",
       "      <td>-87.605748</td>\n",
       "      <td>{'needs_recoding': False, 'longitude': '-87.60...</td>\n",
       "    </tr>\n",
       "    <tr>\n",
       "      <th>3</th>\n",
       "      <td>4</td>\n",
       "      <td>South Chicago</td>\n",
       "      <td>2255 E 103rd St</td>\n",
       "      <td>Chicago</td>\n",
       "      <td>IL</td>\n",
       "      <td>60617</td>\n",
       "      <td>{'url': 'http://home.chicagopolice.org/communi...</td>\n",
       "      <td>312-747-7581</td>\n",
       "      <td>312-747-5276</td>\n",
       "      <td>312-747-9169</td>\n",
       "      <td>1193131.299</td>\n",
       "      <td>1837090.265</td>\n",
       "      <td>41.707933</td>\n",
       "      <td>-87.568349</td>\n",
       "      <td>{'needs_recoding': False, 'longitude': '-87.56...</td>\n",
       "    </tr>\n",
       "    <tr>\n",
       "      <th>4</th>\n",
       "      <td>5</td>\n",
       "      <td>Calumet</td>\n",
       "      <td>727 E 111th St</td>\n",
       "      <td>Chicago</td>\n",
       "      <td>IL</td>\n",
       "      <td>60628</td>\n",
       "      <td>{'url': 'http://home.chicagopolice.org/communi...</td>\n",
       "      <td>312-747-8210</td>\n",
       "      <td>312-747-5935</td>\n",
       "      <td>312-747-9170</td>\n",
       "      <td>1183305.427</td>\n",
       "      <td>1831462.313</td>\n",
       "      <td>41.692723</td>\n",
       "      <td>-87.604506</td>\n",
       "      <td>{'needs_recoding': False, 'longitude': '-87.60...</td>\n",
       "    </tr>\n",
       "  </tbody>\n",
       "</table>\n",
       "</div>"
      ],
      "text/plain": [
       "  DISTRICT   DISTRICT NAME                   ADDRESS     CITY STATE    ZIP  \\\n",
       "0        1         Central           1718 S State St  Chicago    IL  60616   \n",
       "1        2       Wentworth      5101 S Wentworth Ave  Chicago    IL  60609   \n",
       "2        3  Grand Crossing  7040 S Cottage Grove Ave  Chicago    IL  60637   \n",
       "3        4   South Chicago           2255 E 103rd St  Chicago    IL  60617   \n",
       "4        5         Calumet            727 E 111th St  Chicago    IL  60628   \n",
       "\n",
       "                                             WEBSITE         PHONE  \\\n",
       "0  {'url': 'http://home.chicagopolice.org/communi...  312-745-4290   \n",
       "1  {'url': 'http://home.chicagopolice.org/communi...  312-747-8366   \n",
       "2  {'url': 'http://home.chicagopolice.org/communi...  312-747-8201   \n",
       "3  {'url': 'http://home.chicagopolice.org/communi...  312-747-7581   \n",
       "4  {'url': 'http://home.chicagopolice.org/communi...  312-747-8210   \n",
       "\n",
       "            FAX           TTY  X COORDINATE  Y COORDINATE   LATITUDE  \\\n",
       "0  312-745-3694  312-745-3693   1176569.052   1891771.704  41.858373   \n",
       "1  312-747-5396  312-747-6656   1175864.837   1871153.753  41.801811   \n",
       "2  312-747-5479  312-747-9168   1182739.183   1858317.732  41.766431   \n",
       "3  312-747-5276  312-747-9169   1193131.299   1837090.265  41.707933   \n",
       "4  312-747-5935  312-747-9170   1183305.427   1831462.313  41.692723   \n",
       "\n",
       "   LONGITUDE                                           LOCATION  \n",
       "0 -87.627356  {'needs_recoding': False, 'longitude': '-87.62...  \n",
       "1 -87.630560  {'needs_recoding': False, 'longitude': '-87.63...  \n",
       "2 -87.605748  {'needs_recoding': False, 'longitude': '-87.60...  \n",
       "3 -87.568349  {'needs_recoding': False, 'longitude': '-87.56...  \n",
       "4 -87.604506  {'needs_recoding': False, 'longitude': '-87.60...  "
      ]
     },
     "execution_count": 21,
     "metadata": {},
     "output_type": "execute_result"
    }
   ],
   "source": [
    "policestations.head()"
   ]
  },
  {
   "cell_type": "code",
   "execution_count": 22,
   "metadata": {},
   "outputs": [
    {
     "data": {
      "text/plain": [
       "(23, 15)"
      ]
     },
     "execution_count": 22,
     "metadata": {},
     "output_type": "execute_result"
    }
   ],
   "source": [
    "policestations.shape"
   ]
  },
  {
   "cell_type": "code",
   "execution_count": 23,
   "metadata": {
    "scrolled": true
   },
   "outputs": [
    {
     "data": {
      "text/html": [
       "<div>\n",
       "<style scoped>\n",
       "    .dataframe tbody tr th:only-of-type {\n",
       "        vertical-align: middle;\n",
       "    }\n",
       "\n",
       "    .dataframe tbody tr th {\n",
       "        vertical-align: top;\n",
       "    }\n",
       "\n",
       "    .dataframe thead th {\n",
       "        text-align: right;\n",
       "    }\n",
       "</style>\n",
       "<table border=\"1\" class=\"dataframe\">\n",
       "  <thead>\n",
       "    <tr style=\"text-align: right;\">\n",
       "      <th></th>\n",
       "      <th>DISTRICT</th>\n",
       "      <th>DISTRICT NAME</th>\n",
       "      <th>ADDRESS</th>\n",
       "      <th>CITY</th>\n",
       "      <th>STATE</th>\n",
       "      <th>WEBSITE</th>\n",
       "      <th>PHONE</th>\n",
       "      <th>FAX</th>\n",
       "      <th>TTY</th>\n",
       "      <th>LOCATION</th>\n",
       "    </tr>\n",
       "  </thead>\n",
       "  <tbody>\n",
       "    <tr>\n",
       "      <th>count</th>\n",
       "      <td>23</td>\n",
       "      <td>23</td>\n",
       "      <td>23</td>\n",
       "      <td>23</td>\n",
       "      <td>23</td>\n",
       "      <td>23</td>\n",
       "      <td>22</td>\n",
       "      <td>22</td>\n",
       "      <td>22</td>\n",
       "      <td>23</td>\n",
       "    </tr>\n",
       "    <tr>\n",
       "      <th>unique</th>\n",
       "      <td>23</td>\n",
       "      <td>23</td>\n",
       "      <td>23</td>\n",
       "      <td>1</td>\n",
       "      <td>1</td>\n",
       "      <td>23</td>\n",
       "      <td>22</td>\n",
       "      <td>22</td>\n",
       "      <td>22</td>\n",
       "      <td>23</td>\n",
       "    </tr>\n",
       "    <tr>\n",
       "      <th>top</th>\n",
       "      <td>2</td>\n",
       "      <td>Grand Crossing</td>\n",
       "      <td>3120 S Halsted St</td>\n",
       "      <td>Chicago</td>\n",
       "      <td>IL</td>\n",
       "      <td>{'url': 'http://home.chicagopolice.org/communi...</td>\n",
       "      <td>312-745-3617</td>\n",
       "      <td>312-747-5396</td>\n",
       "      <td>312-744-8011</td>\n",
       "      <td>{'needs_recoding': False, 'longitude': '-87.70...</td>\n",
       "    </tr>\n",
       "    <tr>\n",
       "      <th>freq</th>\n",
       "      <td>1</td>\n",
       "      <td>1</td>\n",
       "      <td>1</td>\n",
       "      <td>23</td>\n",
       "      <td>23</td>\n",
       "      <td>1</td>\n",
       "      <td>1</td>\n",
       "      <td>1</td>\n",
       "      <td>1</td>\n",
       "      <td>1</td>\n",
       "    </tr>\n",
       "  </tbody>\n",
       "</table>\n",
       "</div>"
      ],
      "text/plain": [
       "       DISTRICT   DISTRICT NAME            ADDRESS     CITY STATE  \\\n",
       "count        23              23                 23       23    23   \n",
       "unique       23              23                 23        1     1   \n",
       "top           2  Grand Crossing  3120 S Halsted St  Chicago    IL   \n",
       "freq          1               1                  1       23    23   \n",
       "\n",
       "                                                  WEBSITE         PHONE  \\\n",
       "count                                                  23            22   \n",
       "unique                                                 23            22   \n",
       "top     {'url': 'http://home.chicagopolice.org/communi...  312-745-3617   \n",
       "freq                                                    1             1   \n",
       "\n",
       "                 FAX           TTY  \\\n",
       "count             22            22   \n",
       "unique            22            22   \n",
       "top     312-747-5396  312-744-8011   \n",
       "freq               1             1   \n",
       "\n",
       "                                                 LOCATION  \n",
       "count                                                  23  \n",
       "unique                                                 23  \n",
       "top     {'needs_recoding': False, 'longitude': '-87.70...  \n",
       "freq                                                    1  "
      ]
     },
     "execution_count": 23,
     "metadata": {},
     "output_type": "execute_result"
    }
   ],
   "source": [
    "policestations.describe(include=[np.object])"
   ]
  },
  {
   "cell_type": "code",
   "execution_count": 24,
   "metadata": {
    "scrolled": true
   },
   "outputs": [
    {
     "data": {
      "text/plain": [
       "PHONE    1\n",
       "FAX      1\n",
       "TTY      1\n",
       "dtype: int64"
      ]
     },
     "execution_count": 24,
     "metadata": {},
     "output_type": "execute_result"
    }
   ],
   "source": [
    "null_columns=policestations.columns[policestations.isnull().any()]\n",
    "policestations[null_columns].isnull().sum()"
   ]
  },
  {
   "cell_type": "markdown",
   "metadata": {},
   "source": [
    "We observe no critical null-values in the police-station dataset and therefore we proceed:"
   ]
  },
  {
   "cell_type": "code",
   "execution_count": 25,
   "metadata": {},
   "outputs": [],
   "source": [
    "from geopy.distance import vincenty"
   ]
  },
  {
   "cell_type": "code",
   "execution_count": 26,
   "metadata": {},
   "outputs": [
    {
     "name": "stdout",
     "output_type": "stream",
     "text": [
      "11125.215076582237\n"
     ]
    }
   ],
   "source": [
    "# Define the two points\n",
    "start = ((41.758275857, -87.622451031))\n",
    "stop = (41.858373, -87.627356)\n",
    "\n",
    "# Print the vincenty distance\n",
    "print(vincenty(start, stop).meters)\n",
    "\n",
    "# Print the great circle distance\n",
    "#print(great_circle(start, stop).meters)"
   ]
  },
  {
   "cell_type": "markdown",
   "metadata": {},
   "source": [
    "**Compute distrance matrix between crimes and police stations**"
   ]
  },
  {
   "cell_type": "code",
   "execution_count": 27,
   "metadata": {},
   "outputs": [],
   "source": [
    "mat = sp.spatial.distance.cdist(chicago_2008[['Latitude','Longitude']], \n",
    "                              policestations[['LATITUDE','LONGITUDE']], metric='euclidean')"
   ]
  },
  {
   "cell_type": "code",
   "execution_count": 28,
   "metadata": {},
   "outputs": [
    {
     "data": {
      "text/plain": [
       "(2660065, 23)"
      ]
     },
     "execution_count": 28,
     "metadata": {},
     "output_type": "execute_result"
    }
   ],
   "source": [
    "mat.shape"
   ]
  },
  {
   "cell_type": "code",
   "execution_count": 29,
   "metadata": {
    "scrolled": true
   },
   "outputs": [
    {
     "data": {
      "text/plain": [
       "array([[0.10021685, 0.04428402, 0.01858764, ..., 0.24638358, 0.21492092,\n",
       "        0.07243199],\n",
       "       [0.11930609, 0.13426295, 0.17455361, ..., 0.14953271, 0.05214242,\n",
       "        0.12889199],\n",
       "       [0.11293522, 0.07496961, 0.09326513, ..., 0.23042914, 0.16197681,\n",
       "        0.0962632 ],\n",
       "       ...,\n",
       "       [0.09789081, 0.05009864, 0.00993373, ..., 0.24593996, 0.22845662,\n",
       "        0.07060662],\n",
       "       [0.08180648, 0.09784278, 0.13951688, ..., 0.14469251, 0.08128659,\n",
       "        0.09064891],\n",
       "       [0.08723954, 0.03102502, 0.0334045 , ..., 0.23021155, 0.19397587,\n",
       "        0.06078693]])"
      ]
     },
     "execution_count": 29,
     "metadata": {},
     "output_type": "execute_result"
    }
   ],
   "source": [
    "mat"
   ]
  },
  {
   "cell_type": "code",
   "execution_count": 30,
   "metadata": {},
   "outputs": [],
   "source": [
    "mat_df = pd.DataFrame(mat, columns=policestations['DISTRICT NAME']) "
   ]
  },
  {
   "cell_type": "code",
   "execution_count": 31,
   "metadata": {
    "scrolled": true
   },
   "outputs": [
    {
     "data": {
      "text/html": [
       "<div>\n",
       "<style scoped>\n",
       "    .dataframe tbody tr th:only-of-type {\n",
       "        vertical-align: middle;\n",
       "    }\n",
       "\n",
       "    .dataframe tbody tr th {\n",
       "        vertical-align: top;\n",
       "    }\n",
       "\n",
       "    .dataframe thead th {\n",
       "        text-align: right;\n",
       "    }\n",
       "</style>\n",
       "<table border=\"1\" class=\"dataframe\">\n",
       "  <thead>\n",
       "    <tr style=\"text-align: right;\">\n",
       "      <th>DISTRICT NAME</th>\n",
       "      <th>Central</th>\n",
       "      <th>Wentworth</th>\n",
       "      <th>Grand Crossing</th>\n",
       "      <th>South Chicago</th>\n",
       "      <th>Calumet</th>\n",
       "      <th>Gresham</th>\n",
       "      <th>Englewood</th>\n",
       "      <th>Chicago Lawn</th>\n",
       "      <th>Deering</th>\n",
       "      <th>Ogden</th>\n",
       "      <th>...</th>\n",
       "      <th>Austin</th>\n",
       "      <th>Jefferson Park</th>\n",
       "      <th>Albany Park</th>\n",
       "      <th>Near North</th>\n",
       "      <th>Town Hall</th>\n",
       "      <th>Lincoln</th>\n",
       "      <th>Morgan Park</th>\n",
       "      <th>Rogers Park</th>\n",
       "      <th>Grand Central</th>\n",
       "      <th>Headquarters</th>\n",
       "    </tr>\n",
       "  </thead>\n",
       "  <tbody>\n",
       "    <tr>\n",
       "      <th>0</th>\n",
       "      <td>0.100217</td>\n",
       "      <td>0.044284</td>\n",
       "      <td>0.018588</td>\n",
       "      <td>0.073901</td>\n",
       "      <td>0.067964</td>\n",
       "      <td>0.022627</td>\n",
       "      <td>0.043970</td>\n",
       "      <td>0.088860</td>\n",
       "      <td>0.082666</td>\n",
       "      <td>0.130646</td>\n",
       "      <td>...</td>\n",
       "      <td>0.189947</td>\n",
       "      <td>0.259281</td>\n",
       "      <td>0.233101</td>\n",
       "      <td>0.146465</td>\n",
       "      <td>0.191344</td>\n",
       "      <td>0.232201</td>\n",
       "      <td>0.081180</td>\n",
       "      <td>0.246384</td>\n",
       "      <td>0.214921</td>\n",
       "      <td>0.072432</td>\n",
       "    </tr>\n",
       "    <tr>\n",
       "      <th>1</th>\n",
       "      <td>0.119306</td>\n",
       "      <td>0.134263</td>\n",
       "      <td>0.174554</td>\n",
       "      <td>0.240690</td>\n",
       "      <td>0.227061</td>\n",
       "      <td>0.155957</td>\n",
       "      <td>0.124371</td>\n",
       "      <td>0.098557</td>\n",
       "      <td>0.104938</td>\n",
       "      <td>0.040055</td>\n",
       "      <td>...</td>\n",
       "      <td>0.024216</td>\n",
       "      <td>0.105766</td>\n",
       "      <td>0.097469</td>\n",
       "      <td>0.107885</td>\n",
       "      <td>0.122037</td>\n",
       "      <td>0.121568</td>\n",
       "      <td>0.194909</td>\n",
       "      <td>0.149533</td>\n",
       "      <td>0.052142</td>\n",
       "      <td>0.128892</td>\n",
       "    </tr>\n",
       "    <tr>\n",
       "      <th>2</th>\n",
       "      <td>0.112935</td>\n",
       "      <td>0.074970</td>\n",
       "      <td>0.093265</td>\n",
       "      <td>0.144983</td>\n",
       "      <td>0.122622</td>\n",
       "      <td>0.057832</td>\n",
       "      <td>0.038984</td>\n",
       "      <td>0.012775</td>\n",
       "      <td>0.084647</td>\n",
       "      <td>0.086217</td>\n",
       "      <td>...</td>\n",
       "      <td>0.129242</td>\n",
       "      <td>0.213947</td>\n",
       "      <td>0.197238</td>\n",
       "      <td>0.143444</td>\n",
       "      <td>0.182664</td>\n",
       "      <td>0.208647</td>\n",
       "      <td>0.085159</td>\n",
       "      <td>0.230429</td>\n",
       "      <td>0.161977</td>\n",
       "      <td>0.096263</td>\n",
       "    </tr>\n",
       "    <tr>\n",
       "      <th>3</th>\n",
       "      <td>0.135041</td>\n",
       "      <td>0.157310</td>\n",
       "      <td>0.198732</td>\n",
       "      <td>0.265871</td>\n",
       "      <td>0.253468</td>\n",
       "      <td>0.182166</td>\n",
       "      <td>0.150324</td>\n",
       "      <td>0.125664</td>\n",
       "      <td>0.124975</td>\n",
       "      <td>0.062132</td>\n",
       "      <td>...</td>\n",
       "      <td>0.018373</td>\n",
       "      <td>0.079664</td>\n",
       "      <td>0.076913</td>\n",
       "      <td>0.114310</td>\n",
       "      <td>0.118144</td>\n",
       "      <td>0.106417</td>\n",
       "      <td>0.222030</td>\n",
       "      <td>0.135627</td>\n",
       "      <td>0.025076</td>\n",
       "      <td>0.148558</td>\n",
       "    </tr>\n",
       "    <tr>\n",
       "      <th>4</th>\n",
       "      <td>0.083809</td>\n",
       "      <td>0.089772</td>\n",
       "      <td>0.129755</td>\n",
       "      <td>0.196219</td>\n",
       "      <td>0.184224</td>\n",
       "      <td>0.112778</td>\n",
       "      <td>0.080763</td>\n",
       "      <td>0.064847</td>\n",
       "      <td>0.063811</td>\n",
       "      <td>0.012947</td>\n",
       "      <td>...</td>\n",
       "      <td>0.068660</td>\n",
       "      <td>0.141896</td>\n",
       "      <td>0.123578</td>\n",
       "      <td>0.089207</td>\n",
       "      <td>0.118895</td>\n",
       "      <td>0.136790</td>\n",
       "      <td>0.157908</td>\n",
       "      <td>0.160636</td>\n",
       "      <td>0.093235</td>\n",
       "      <td>0.087488</td>\n",
       "    </tr>\n",
       "  </tbody>\n",
       "</table>\n",
       "<p>5 rows × 23 columns</p>\n",
       "</div>"
      ],
      "text/plain": [
       "DISTRICT NAME   Central  Wentworth  Grand Crossing  South Chicago   Calumet  \\\n",
       "0              0.100217   0.044284        0.018588       0.073901  0.067964   \n",
       "1              0.119306   0.134263        0.174554       0.240690  0.227061   \n",
       "2              0.112935   0.074970        0.093265       0.144983  0.122622   \n",
       "3              0.135041   0.157310        0.198732       0.265871  0.253468   \n",
       "4              0.083809   0.089772        0.129755       0.196219  0.184224   \n",
       "\n",
       "DISTRICT NAME   Gresham  Englewood  Chicago Lawn   Deering     Ogden  \\\n",
       "0              0.022627   0.043970      0.088860  0.082666  0.130646   \n",
       "1              0.155957   0.124371      0.098557  0.104938  0.040055   \n",
       "2              0.057832   0.038984      0.012775  0.084647  0.086217   \n",
       "3              0.182166   0.150324      0.125664  0.124975  0.062132   \n",
       "4              0.112778   0.080763      0.064847  0.063811  0.012947   \n",
       "\n",
       "DISTRICT NAME      ...         Austin  Jefferson Park  Albany Park  \\\n",
       "0                  ...       0.189947        0.259281     0.233101   \n",
       "1                  ...       0.024216        0.105766     0.097469   \n",
       "2                  ...       0.129242        0.213947     0.197238   \n",
       "3                  ...       0.018373        0.079664     0.076913   \n",
       "4                  ...       0.068660        0.141896     0.123578   \n",
       "\n",
       "DISTRICT NAME  Near North  Town Hall   Lincoln  Morgan Park  Rogers Park  \\\n",
       "0                0.146465   0.191344  0.232201     0.081180     0.246384   \n",
       "1                0.107885   0.122037  0.121568     0.194909     0.149533   \n",
       "2                0.143444   0.182664  0.208647     0.085159     0.230429   \n",
       "3                0.114310   0.118144  0.106417     0.222030     0.135627   \n",
       "4                0.089207   0.118895  0.136790     0.157908     0.160636   \n",
       "\n",
       "DISTRICT NAME  Grand Central  Headquarters  \n",
       "0                   0.214921      0.072432  \n",
       "1                   0.052142      0.128892  \n",
       "2                   0.161977      0.096263  \n",
       "3                   0.025076      0.148558  \n",
       "4                   0.093235      0.087488  \n",
       "\n",
       "[5 rows x 23 columns]"
      ]
     },
     "execution_count": 31,
     "metadata": {},
     "output_type": "execute_result"
    }
   ],
   "source": [
    "mat_df.head()"
   ]
  },
  {
   "cell_type": "code",
   "execution_count": 98,
   "metadata": {
    "scrolled": true
   },
   "outputs": [
    {
     "data": {
      "text/plain": [
       "(2660065, 24)"
      ]
     },
     "execution_count": 98,
     "metadata": {},
     "output_type": "execute_result"
    }
   ],
   "source": [
    "chicago_2008.shape"
   ]
  },
  {
   "cell_type": "code",
   "execution_count": 32,
   "metadata": {},
   "outputs": [],
   "source": [
    "chicago_2008['min_distance2police'] = mat_df.min(axis=1)"
   ]
  },
  {
   "cell_type": "code",
   "execution_count": 33,
   "metadata": {
    "scrolled": true
   },
   "outputs": [
    {
     "data": {
      "text/html": [
       "<div>\n",
       "<style scoped>\n",
       "    .dataframe tbody tr th:only-of-type {\n",
       "        vertical-align: middle;\n",
       "    }\n",
       "\n",
       "    .dataframe tbody tr th {\n",
       "        vertical-align: top;\n",
       "    }\n",
       "\n",
       "    .dataframe thead th {\n",
       "        text-align: right;\n",
       "    }\n",
       "</style>\n",
       "<table border=\"1\" class=\"dataframe\">\n",
       "  <thead>\n",
       "    <tr style=\"text-align: right;\">\n",
       "      <th></th>\n",
       "      <th>Unnamed: 0</th>\n",
       "      <th>ID</th>\n",
       "      <th>Case Number</th>\n",
       "      <th>Date</th>\n",
       "      <th>Block</th>\n",
       "      <th>IUCR</th>\n",
       "      <th>Primary Type</th>\n",
       "      <th>Description</th>\n",
       "      <th>Location Description</th>\n",
       "      <th>Arrest</th>\n",
       "      <th>...</th>\n",
       "      <th>Community Area</th>\n",
       "      <th>FBI Code</th>\n",
       "      <th>X Coordinate</th>\n",
       "      <th>Y Coordinate</th>\n",
       "      <th>Year</th>\n",
       "      <th>Updated On</th>\n",
       "      <th>Latitude</th>\n",
       "      <th>Longitude</th>\n",
       "      <th>Location</th>\n",
       "      <th>min_distance2police</th>\n",
       "    </tr>\n",
       "  </thead>\n",
       "  <tbody>\n",
       "    <tr>\n",
       "      <th>0</th>\n",
       "      <td>388</td>\n",
       "      <td>4785</td>\n",
       "      <td>HP610824</td>\n",
       "      <td>10/07/2008 12:39:00 PM</td>\n",
       "      <td>000XX E 75TH ST</td>\n",
       "      <td>0110</td>\n",
       "      <td>HOMICIDE</td>\n",
       "      <td>FIRST DEGREE MURDER</td>\n",
       "      <td>ALLEY</td>\n",
       "      <td>True</td>\n",
       "      <td>...</td>\n",
       "      <td>69.0</td>\n",
       "      <td>01A</td>\n",
       "      <td>1178207.0</td>\n",
       "      <td>1855308.0</td>\n",
       "      <td>2008</td>\n",
       "      <td>08/17/2015 03:03:40 PM</td>\n",
       "      <td>41.758276</td>\n",
       "      <td>-87.622451</td>\n",
       "      <td>(41.758275857, -87.622451031)</td>\n",
       "      <td>0.018588</td>\n",
       "    </tr>\n",
       "    <tr>\n",
       "      <th>1</th>\n",
       "      <td>835</td>\n",
       "      <td>4786</td>\n",
       "      <td>HP616595</td>\n",
       "      <td>10/09/2008 03:30:00 AM</td>\n",
       "      <td>048XX W POLK ST</td>\n",
       "      <td>0110</td>\n",
       "      <td>HOMICIDE</td>\n",
       "      <td>FIRST DEGREE MURDER</td>\n",
       "      <td>STREET</td>\n",
       "      <td>True</td>\n",
       "      <td>...</td>\n",
       "      <td>25.0</td>\n",
       "      <td>01A</td>\n",
       "      <td>1144200.0</td>\n",
       "      <td>1895857.0</td>\n",
       "      <td>2008</td>\n",
       "      <td>08/17/2015 03:03:40 PM</td>\n",
       "      <td>41.870252</td>\n",
       "      <td>-87.746069</td>\n",
       "      <td>(41.87025207, -87.746069362)</td>\n",
       "      <td>0.024216</td>\n",
       "    </tr>\n",
       "    <tr>\n",
       "      <th>2</th>\n",
       "      <td>1334</td>\n",
       "      <td>4787</td>\n",
       "      <td>HP616904</td>\n",
       "      <td>10/09/2008 08:35:00 AM</td>\n",
       "      <td>030XX W MANN DR</td>\n",
       "      <td>0110</td>\n",
       "      <td>HOMICIDE</td>\n",
       "      <td>FIRST DEGREE MURDER</td>\n",
       "      <td>PARK PROPERTY</td>\n",
       "      <td>False</td>\n",
       "      <td>...</td>\n",
       "      <td>66.0</td>\n",
       "      <td>01A</td>\n",
       "      <td>1157314.0</td>\n",
       "      <td>1859778.0</td>\n",
       "      <td>2008</td>\n",
       "      <td>08/17/2015 03:03:40 PM</td>\n",
       "      <td>41.770990</td>\n",
       "      <td>-87.698901</td>\n",
       "      <td>(41.770990476, -87.698901469)</td>\n",
       "      <td>0.012775</td>\n",
       "    </tr>\n",
       "    <tr>\n",
       "      <th>3</th>\n",
       "      <td>1907</td>\n",
       "      <td>4788</td>\n",
       "      <td>HP618616</td>\n",
       "      <td>10/10/2008 02:33:00 AM</td>\n",
       "      <td>052XX W CHICAGO AVE</td>\n",
       "      <td>0110</td>\n",
       "      <td>HOMICIDE</td>\n",
       "      <td>FIRST DEGREE MURDER</td>\n",
       "      <td>RESTAURANT</td>\n",
       "      <td>False</td>\n",
       "      <td>...</td>\n",
       "      <td>25.0</td>\n",
       "      <td>01A</td>\n",
       "      <td>1141065.0</td>\n",
       "      <td>1904824.0</td>\n",
       "      <td>2008</td>\n",
       "      <td>08/17/2015 03:03:40 PM</td>\n",
       "      <td>41.894917</td>\n",
       "      <td>-87.757358</td>\n",
       "      <td>(41.894916924, -87.757358147)</td>\n",
       "      <td>0.018373</td>\n",
       "    </tr>\n",
       "    <tr>\n",
       "      <th>4</th>\n",
       "      <td>2436</td>\n",
       "      <td>4789</td>\n",
       "      <td>HP619020</td>\n",
       "      <td>10/10/2008 12:50:00 PM</td>\n",
       "      <td>026XX S HOMAN AVE</td>\n",
       "      <td>0110</td>\n",
       "      <td>HOMICIDE</td>\n",
       "      <td>FIRST DEGREE MURDER</td>\n",
       "      <td>GARAGE</td>\n",
       "      <td>False</td>\n",
       "      <td>...</td>\n",
       "      <td>30.0</td>\n",
       "      <td>01A</td>\n",
       "      <td>1154123.0</td>\n",
       "      <td>1886297.0</td>\n",
       "      <td>2008</td>\n",
       "      <td>08/17/2015 03:03:40 PM</td>\n",
       "      <td>41.843826</td>\n",
       "      <td>-87.709893</td>\n",
       "      <td>(41.843826272, -87.709893465)</td>\n",
       "      <td>0.012947</td>\n",
       "    </tr>\n",
       "  </tbody>\n",
       "</table>\n",
       "<p>5 rows × 24 columns</p>\n",
       "</div>"
      ],
      "text/plain": [
       "   Unnamed: 0    ID Case Number                    Date                Block  \\\n",
       "0         388  4785    HP610824  10/07/2008 12:39:00 PM      000XX E 75TH ST   \n",
       "1         835  4786    HP616595  10/09/2008 03:30:00 AM      048XX W POLK ST   \n",
       "2        1334  4787    HP616904  10/09/2008 08:35:00 AM      030XX W MANN DR   \n",
       "3        1907  4788    HP618616  10/10/2008 02:33:00 AM  052XX W CHICAGO AVE   \n",
       "4        2436  4789    HP619020  10/10/2008 12:50:00 PM    026XX S HOMAN AVE   \n",
       "\n",
       "   IUCR Primary Type          Description Location Description  Arrest  \\\n",
       "0  0110     HOMICIDE  FIRST DEGREE MURDER                ALLEY    True   \n",
       "1  0110     HOMICIDE  FIRST DEGREE MURDER               STREET    True   \n",
       "2  0110     HOMICIDE  FIRST DEGREE MURDER        PARK PROPERTY   False   \n",
       "3  0110     HOMICIDE  FIRST DEGREE MURDER           RESTAURANT   False   \n",
       "4  0110     HOMICIDE  FIRST DEGREE MURDER               GARAGE   False   \n",
       "\n",
       "          ...          Community Area  FBI Code  X Coordinate  Y Coordinate  \\\n",
       "0         ...                    69.0       01A     1178207.0     1855308.0   \n",
       "1         ...                    25.0       01A     1144200.0     1895857.0   \n",
       "2         ...                    66.0       01A     1157314.0     1859778.0   \n",
       "3         ...                    25.0       01A     1141065.0     1904824.0   \n",
       "4         ...                    30.0       01A     1154123.0     1886297.0   \n",
       "\n",
       "   Year              Updated On   Latitude  Longitude  \\\n",
       "0  2008  08/17/2015 03:03:40 PM  41.758276 -87.622451   \n",
       "1  2008  08/17/2015 03:03:40 PM  41.870252 -87.746069   \n",
       "2  2008  08/17/2015 03:03:40 PM  41.770990 -87.698901   \n",
       "3  2008  08/17/2015 03:03:40 PM  41.894917 -87.757358   \n",
       "4  2008  08/17/2015 03:03:40 PM  41.843826 -87.709893   \n",
       "\n",
       "                        Location min_distance2police  \n",
       "0  (41.758275857, -87.622451031)            0.018588  \n",
       "1   (41.87025207, -87.746069362)            0.024216  \n",
       "2  (41.770990476, -87.698901469)            0.012775  \n",
       "3  (41.894916924, -87.757358147)            0.018373  \n",
       "4  (41.843826272, -87.709893465)            0.012947  \n",
       "\n",
       "[5 rows x 24 columns]"
      ]
     },
     "execution_count": 33,
     "metadata": {},
     "output_type": "execute_result"
    }
   ],
   "source": [
    "chicago_2008.head()"
   ]
  },
  {
   "cell_type": "code",
   "execution_count": 34,
   "metadata": {},
   "outputs": [
    {
     "data": {
      "text/plain": [
       "0.01941120961499001"
      ]
     },
     "execution_count": 34,
     "metadata": {},
     "output_type": "execute_result"
    }
   ],
   "source": [
    "chicago_2008[\"min_distance2police\"].median()"
   ]
  },
  {
   "cell_type": "markdown",
   "metadata": {},
   "source": [
    "All of the distances are created as the eucledian distance measured in coordinates. To gain a reference point 0.2 will be around 22 km to nearest police station, and 0.02 (which is the median of distances) will be around 3 km. This also raises the awareness around how important a very little difference in distance might do. "
   ]
  },
  {
   "cell_type": "markdown",
   "metadata": {},
   "source": [
    "***EXPLORATIVE PLOTTING FOR POLICESTATION DATA***"
   ]
  },
  {
   "cell_type": "markdown",
   "metadata": {},
   "source": [
    "A basic plot if the distances to closest policestation:"
   ]
  },
  {
   "cell_type": "code",
   "execution_count": 35,
   "metadata": {},
   "outputs": [
    {
     "data": {
      "text/plain": [
       "[<matplotlib.lines.Line2D at 0x109115e48>]"
      ]
     },
     "execution_count": 35,
     "metadata": {},
     "output_type": "execute_result"
    },
    {
     "data": {
      "image/png": "[encoded data removed]",
      "text/plain": [
       "<matplotlib.figure.Figure at 0x108f4ad68>"
      ]
     },
     "metadata": {},
     "output_type": "display_data"
    }
   ],
   "source": [
    "plt.plot(chicago_2008['min_distance2police'])"
   ]
  },
  {
   "cell_type": "code",
   "execution_count": 36,
   "metadata": {},
   "outputs": [
    {
     "data": {
      "text/plain": [
       "<matplotlib.axes._subplots.AxesSubplot at 0x10913f8d0>"
      ]
     },
     "execution_count": 36,
     "metadata": {},
     "output_type": "execute_result"
    },
    {
     "data": {
      "image/png": "[encoded data removed]",
      "text/plain": [
       "<matplotlib.figure.Figure at 0x108f796a0>"
      ]
     },
     "metadata": {},
     "output_type": "display_data"
    }
   ],
   "source": [
    "chicago_2008.boxplot(column='min_distance2police')"
   ]
  },
  {
   "cell_type": "markdown",
   "metadata": {},
   "source": [
    "Could look like we have some outliers with an euclidean distance of more than 6. If we remove this one, we see the following:"
   ]
  },
  {
   "cell_type": "code",
   "execution_count": 37,
   "metadata": {},
   "outputs": [],
   "source": [
    "chicago_2008_subset = chicago_2008.loc[chicago_2008['min_distance2police'] < 6]"
   ]
  },
  {
   "cell_type": "code",
   "execution_count": 38,
   "metadata": {
    "scrolled": false
   },
   "outputs": [
    {
     "data": {
      "text/plain": [
       "<matplotlib.axes._subplots.AxesSubplot at 0x109183470>"
      ]
     },
     "execution_count": 38,
     "metadata": {},
     "output_type": "execute_result"
    },
    {
     "data": {
      "image/png": "[encoded data removed]",
      "text/plain": [
       "<matplotlib.figure.Figure at 0x10919ab38>"
      ]
     },
     "metadata": {},
     "output_type": "display_data"
    }
   ],
   "source": [
    "chicago_2008_subset.boxplot(column='min_distance2police')"
   ]
  },
  {
   "cell_type": "markdown",
   "metadata": {},
   "source": [
    "Before omitting these, lets examine how many it is:"
   ]
  },
  {
   "cell_type": "code",
   "execution_count": 39,
   "metadata": {},
   "outputs": [
    {
     "data": {
      "text/plain": [
       "27402"
      ]
     },
     "execution_count": 39,
     "metadata": {},
     "output_type": "execute_result"
    }
   ],
   "source": [
    "chicago_2008.shape[0]-chicago_2008_subset.shape[0]"
   ]
  },
  {
   "cell_type": "markdown",
   "metadata": {},
   "source": [
    "27402 incidents are located very far away from any police stations. Lets examine these alone in a boxplot:"
   ]
  },
  {
   "cell_type": "code",
   "execution_count": 40,
   "metadata": {},
   "outputs": [],
   "source": [
    "chicago_2008_subset2 = chicago_2008.loc[chicago_2008['min_distance2police'] > 6]"
   ]
  },
  {
   "cell_type": "code",
   "execution_count": 41,
   "metadata": {},
   "outputs": [
    {
     "data": {
      "text/plain": [
       "(168, 24)"
      ]
     },
     "execution_count": 41,
     "metadata": {},
     "output_type": "execute_result"
    }
   ],
   "source": [
    "chicago_2008_subset2.shape"
   ]
  },
  {
   "cell_type": "code",
   "execution_count": 42,
   "metadata": {
    "scrolled": true
   },
   "outputs": [
    {
     "data": {
      "text/plain": [
       "<matplotlib.axes._subplots.AxesSubplot at 0x10919a668>"
      ]
     },
     "execution_count": 42,
     "metadata": {},
     "output_type": "execute_result"
    },
    {
     "data": {
      "image/png": "[encoded data removed]",
      "text/plain": [
       "<matplotlib.figure.Figure at 0x10a236438>"
      ]
     },
     "metadata": {},
     "output_type": "display_data"
    }
   ],
   "source": [
    "chicago_2008_subset2.boxplot(column='min_distance2police')"
   ]
  },
  {
   "cell_type": "markdown",
   "metadata": {},
   "source": [
    "Seems like all of these values are actually outliers. We will handle these in a certain way.\n",
    "For now we will continue with the crimes that are all below an euclidean distance to policestation of 6:"
   ]
  },
  {
   "cell_type": "markdown",
   "metadata": {},
   "source": [
    "chicago_2008_subset.boxplot(column='min_distance2police', by='Arrest')"
   ]
  },
  {
   "cell_type": "code",
   "execution_count": 43,
   "metadata": {
    "scrolled": true
   },
   "outputs": [
    {
     "data": {
      "text/plain": [
       "<matplotlib.axes._subplots.AxesSubplot at 0x10a4ad550>"
      ]
     },
     "execution_count": 43,
     "metadata": {},
     "output_type": "execute_result"
    },
    {
     "data": {
      "image/png": "[encoded data removed]",
      "text/plain": [
       "<matplotlib.figure.Figure at 0x10a4b4ba8>"
      ]
     },
     "metadata": {},
     "output_type": "display_data"
    }
   ],
   "source": [
    "chicago_2008_subset.boxplot(column='min_distance2police', by='Arrest')"
   ]
  },
  {
   "cell_type": "markdown",
   "metadata": {},
   "source": [
    "Examining which other categorical variables could add value to a boxplot:"
   ]
  },
  {
   "cell_type": "code",
   "execution_count": 44,
   "metadata": {},
   "outputs": [
    {
     "data": {
      "text/html": [
       "<div>\n",
       "<style scoped>\n",
       "    .dataframe tbody tr th:only-of-type {\n",
       "        vertical-align: middle;\n",
       "    }\n",
       "\n",
       "    .dataframe tbody tr th {\n",
       "        vertical-align: top;\n",
       "    }\n",
       "\n",
       "    .dataframe thead th {\n",
       "        text-align: right;\n",
       "    }\n",
       "</style>\n",
       "<table border=\"1\" class=\"dataframe\">\n",
       "  <thead>\n",
       "    <tr style=\"text-align: right;\">\n",
       "      <th></th>\n",
       "      <th>Case Number</th>\n",
       "      <th>Date</th>\n",
       "      <th>Block</th>\n",
       "      <th>IUCR</th>\n",
       "      <th>Primary Type</th>\n",
       "      <th>Description</th>\n",
       "      <th>Location Description</th>\n",
       "      <th>FBI Code</th>\n",
       "      <th>Updated On</th>\n",
       "      <th>Location</th>\n",
       "    </tr>\n",
       "  </thead>\n",
       "  <tbody>\n",
       "    <tr>\n",
       "      <th>count</th>\n",
       "      <td>2632657</td>\n",
       "      <td>2632663</td>\n",
       "      <td>2632663</td>\n",
       "      <td>2632663</td>\n",
       "      <td>2632663</td>\n",
       "      <td>2632663</td>\n",
       "      <td>2632448</td>\n",
       "      <td>2632663</td>\n",
       "      <td>2632663</td>\n",
       "      <td>2632663</td>\n",
       "    </tr>\n",
       "    <tr>\n",
       "      <th>unique</th>\n",
       "      <td>1498275</td>\n",
       "      <td>560273</td>\n",
       "      <td>32004</td>\n",
       "      <td>351</td>\n",
       "      <td>28</td>\n",
       "      <td>328</td>\n",
       "      <td>117</td>\n",
       "      <td>25</td>\n",
       "      <td>5</td>\n",
       "      <td>382150</td>\n",
       "    </tr>\n",
       "    <tr>\n",
       "      <th>top</th>\n",
       "      <td>HR180267</td>\n",
       "      <td>01/01/2008 12:01:00 AM</td>\n",
       "      <td>100XX W OHARE ST</td>\n",
       "      <td>0486</td>\n",
       "      <td>THEFT</td>\n",
       "      <td>SIMPLE</td>\n",
       "      <td>STREET</td>\n",
       "      <td>06</td>\n",
       "      <td>02/04/2016 06:33:39 AM</td>\n",
       "      <td>(41.976290414, -87.905227221)</td>\n",
       "    </tr>\n",
       "    <tr>\n",
       "      <th>freq</th>\n",
       "      <td>3</td>\n",
       "      <td>332</td>\n",
       "      <td>5710</td>\n",
       "      <td>224585</td>\n",
       "      <td>543595</td>\n",
       "      <td>268288</td>\n",
       "      <td>671510</td>\n",
       "      <td>543595</td>\n",
       "      <td>2632324</td>\n",
       "      <td>5710</td>\n",
       "    </tr>\n",
       "  </tbody>\n",
       "</table>\n",
       "</div>"
      ],
      "text/plain": [
       "       Case Number                    Date             Block     IUCR  \\\n",
       "count      2632657                 2632663           2632663  2632663   \n",
       "unique     1498275                  560273             32004      351   \n",
       "top       HR180267  01/01/2008 12:01:00 AM  100XX W OHARE ST     0486   \n",
       "freq             3                     332              5710   224585   \n",
       "\n",
       "       Primary Type Description Location Description FBI Code  \\\n",
       "count       2632663     2632663              2632448  2632663   \n",
       "unique           28         328                  117       25   \n",
       "top           THEFT      SIMPLE               STREET       06   \n",
       "freq         543595      268288               671510   543595   \n",
       "\n",
       "                    Updated On                       Location  \n",
       "count                  2632663                        2632663  \n",
       "unique                       5                         382150  \n",
       "top     02/04/2016 06:33:39 AM  (41.976290414, -87.905227221)  \n",
       "freq                   2632324                           5710  "
      ]
     },
     "execution_count": 44,
     "metadata": {},
     "output_type": "execute_result"
    }
   ],
   "source": [
    "chicago_2008_subset.describe(include=[np.object])"
   ]
  },
  {
   "cell_type": "code",
   "execution_count": 45,
   "metadata": {
    "scrolled": true
   },
   "outputs": [
    {
     "data": {
      "text/plain": [
       "<matplotlib.axes._subplots.AxesSubplot at 0x10a26aba8>"
      ]
     },
     "execution_count": 45,
     "metadata": {},
     "output_type": "execute_result"
    },
    {
     "data": {
      "image/png": "[encoded data removed]",
      "text/plain": [
       "<matplotlib.figure.Figure at 0x10a55b320>"
      ]
     },
     "metadata": {},
     "output_type": "display_data"
    }
   ],
   "source": [
    "chicago_2008_subset.boxplot(column='min_distance2police', by='Primary Type')"
   ]
  },
  {
   "cell_type": "markdown",
   "metadata": {},
   "source": [
    "Maybe it does not make sense to use all types of crimes. Theft, liquoir law crime, etc will always happen in the centers and thereby close to police stations. Let us investigate `KIDNAPPING`."
   ]
  },
  {
   "cell_type": "code",
   "execution_count": 46,
   "metadata": {},
   "outputs": [],
   "source": [
    "chicago_2008_kidnap = chicago_2008_subset.loc[chicago_2008_subset['Primary Type'] == 'KIDNAPPING']"
   ]
  },
  {
   "cell_type": "code",
   "execution_count": 47,
   "metadata": {},
   "outputs": [
    {
     "data": {
      "text/plain": [
       "(2142, 24)"
      ]
     },
     "execution_count": 47,
     "metadata": {},
     "output_type": "execute_result"
    }
   ],
   "source": [
    "chicago_2008_kidnap.shape"
   ]
  },
  {
   "cell_type": "code",
   "execution_count": 48,
   "metadata": {
    "scrolled": true
   },
   "outputs": [
    {
     "data": {
      "text/plain": [
       "<matplotlib.axes._subplots.AxesSubplot at 0x10dfcd3c8>"
      ]
     },
     "execution_count": 48,
     "metadata": {},
     "output_type": "execute_result"
    },
    {
     "data": {
      "image/png": "[encoded data removed]",
      "text/plain": [
       "<matplotlib.figure.Figure at 0x10dfd9ac8>"
      ]
     },
     "metadata": {},
     "output_type": "display_data"
    }
   ],
   "source": [
    "chicago_2008_kidnap.boxplot(column='min_distance2police', by='Arrest')"
   ]
  },
  {
   "cell_type": "markdown",
   "metadata": {},
   "source": [
    "The boxplot mostly tells us about how the distances are distributed. From this we can conclude that the median for `no arrest` within kidnapping is around 0.02 euclidean distance and that for `arrest` it is marginally lower. "
   ]
  },
  {
   "cell_type": "markdown",
   "metadata": {},
   "source": [
    "***TESTING OF POLICE STATION DISTANCES***\n",
    "\n",
    "Let us now test whether there are more crimes in the distances further away from police stations.\n",
    "First we will aggregate the amount of crimes in categories of distances. As we saw in the beginning, very small changes to the eucledian distance can make a change in the real-life distances. "
   ]
  },
  {
   "cell_type": "code",
   "execution_count": 49,
   "metadata": {
    "scrolled": true
   },
   "outputs": [],
   "source": [
    "columns = ['Distance Interval Low','Distance Interval High', 'Sum']\n",
    "aggDF = pd.DataFrame(columns=columns)\n",
    "aggDF = aggDF.fillna(0) # with 0s rather than NaNs\n",
    "j = 0\n",
    "k = 0.01\n",
    "listLow = np.ones(20)\n",
    "listHigh = np.ones(20)\n",
    "for i in range(20):\n",
    "    listLow[i] = j\n",
    "    j += 0.01\n",
    "for i in range(20):\n",
    "    listHigh[i] = k\n",
    "    k += 0.01\n",
    "aggDF['Distance Interval Low'] = listLow\n",
    "aggDF['Distance Interval High'] = listHigh\n"
   ]
  },
  {
   "cell_type": "code",
   "execution_count": 50,
   "metadata": {
    "scrolled": true
   },
   "outputs": [
    {
     "data": {
      "text/html": [
       "<div>\n",
       "<style scoped>\n",
       "    .dataframe tbody tr th:only-of-type {\n",
       "        vertical-align: middle;\n",
       "    }\n",
       "\n",
       "    .dataframe tbody tr th {\n",
       "        vertical-align: top;\n",
       "    }\n",
       "\n",
       "    .dataframe thead th {\n",
       "        text-align: right;\n",
       "    }\n",
       "</style>\n",
       "<table border=\"1\" class=\"dataframe\">\n",
       "  <thead>\n",
       "    <tr style=\"text-align: right;\">\n",
       "      <th></th>\n",
       "      <th>Distance Interval Low</th>\n",
       "      <th>Distance Interval High</th>\n",
       "      <th>Sum</th>\n",
       "    </tr>\n",
       "  </thead>\n",
       "  <tbody>\n",
       "    <tr>\n",
       "      <th>0</th>\n",
       "      <td>0.00</td>\n",
       "      <td>0.01</td>\n",
       "      <td>NaN</td>\n",
       "    </tr>\n",
       "    <tr>\n",
       "      <th>1</th>\n",
       "      <td>0.01</td>\n",
       "      <td>0.02</td>\n",
       "      <td>NaN</td>\n",
       "    </tr>\n",
       "    <tr>\n",
       "      <th>2</th>\n",
       "      <td>0.02</td>\n",
       "      <td>0.03</td>\n",
       "      <td>NaN</td>\n",
       "    </tr>\n",
       "    <tr>\n",
       "      <th>3</th>\n",
       "      <td>0.03</td>\n",
       "      <td>0.04</td>\n",
       "      <td>NaN</td>\n",
       "    </tr>\n",
       "    <tr>\n",
       "      <th>4</th>\n",
       "      <td>0.04</td>\n",
       "      <td>0.05</td>\n",
       "      <td>NaN</td>\n",
       "    </tr>\n",
       "    <tr>\n",
       "      <th>5</th>\n",
       "      <td>0.05</td>\n",
       "      <td>0.06</td>\n",
       "      <td>NaN</td>\n",
       "    </tr>\n",
       "    <tr>\n",
       "      <th>6</th>\n",
       "      <td>0.06</td>\n",
       "      <td>0.07</td>\n",
       "      <td>NaN</td>\n",
       "    </tr>\n",
       "    <tr>\n",
       "      <th>7</th>\n",
       "      <td>0.07</td>\n",
       "      <td>0.08</td>\n",
       "      <td>NaN</td>\n",
       "    </tr>\n",
       "    <tr>\n",
       "      <th>8</th>\n",
       "      <td>0.08</td>\n",
       "      <td>0.09</td>\n",
       "      <td>NaN</td>\n",
       "    </tr>\n",
       "    <tr>\n",
       "      <th>9</th>\n",
       "      <td>0.09</td>\n",
       "      <td>0.10</td>\n",
       "      <td>NaN</td>\n",
       "    </tr>\n",
       "    <tr>\n",
       "      <th>10</th>\n",
       "      <td>0.10</td>\n",
       "      <td>0.11</td>\n",
       "      <td>NaN</td>\n",
       "    </tr>\n",
       "    <tr>\n",
       "      <th>11</th>\n",
       "      <td>0.11</td>\n",
       "      <td>0.12</td>\n",
       "      <td>NaN</td>\n",
       "    </tr>\n",
       "    <tr>\n",
       "      <th>12</th>\n",
       "      <td>0.12</td>\n",
       "      <td>0.13</td>\n",
       "      <td>NaN</td>\n",
       "    </tr>\n",
       "    <tr>\n",
       "      <th>13</th>\n",
       "      <td>0.13</td>\n",
       "      <td>0.14</td>\n",
       "      <td>NaN</td>\n",
       "    </tr>\n",
       "    <tr>\n",
       "      <th>14</th>\n",
       "      <td>0.14</td>\n",
       "      <td>0.15</td>\n",
       "      <td>NaN</td>\n",
       "    </tr>\n",
       "    <tr>\n",
       "      <th>15</th>\n",
       "      <td>0.15</td>\n",
       "      <td>0.16</td>\n",
       "      <td>NaN</td>\n",
       "    </tr>\n",
       "    <tr>\n",
       "      <th>16</th>\n",
       "      <td>0.16</td>\n",
       "      <td>0.17</td>\n",
       "      <td>NaN</td>\n",
       "    </tr>\n",
       "    <tr>\n",
       "      <th>17</th>\n",
       "      <td>0.17</td>\n",
       "      <td>0.18</td>\n",
       "      <td>NaN</td>\n",
       "    </tr>\n",
       "    <tr>\n",
       "      <th>18</th>\n",
       "      <td>0.18</td>\n",
       "      <td>0.19</td>\n",
       "      <td>NaN</td>\n",
       "    </tr>\n",
       "    <tr>\n",
       "      <th>19</th>\n",
       "      <td>0.19</td>\n",
       "      <td>0.20</td>\n",
       "      <td>NaN</td>\n",
       "    </tr>\n",
       "  </tbody>\n",
       "</table>\n",
       "</div>"
      ],
      "text/plain": [
       "    Distance Interval Low  Distance Interval High  Sum\n",
       "0                    0.00                    0.01  NaN\n",
       "1                    0.01                    0.02  NaN\n",
       "2                    0.02                    0.03  NaN\n",
       "3                    0.03                    0.04  NaN\n",
       "4                    0.04                    0.05  NaN\n",
       "5                    0.05                    0.06  NaN\n",
       "6                    0.06                    0.07  NaN\n",
       "7                    0.07                    0.08  NaN\n",
       "8                    0.08                    0.09  NaN\n",
       "9                    0.09                    0.10  NaN\n",
       "10                   0.10                    0.11  NaN\n",
       "11                   0.11                    0.12  NaN\n",
       "12                   0.12                    0.13  NaN\n",
       "13                   0.13                    0.14  NaN\n",
       "14                   0.14                    0.15  NaN\n",
       "15                   0.15                    0.16  NaN\n",
       "16                   0.16                    0.17  NaN\n",
       "17                   0.17                    0.18  NaN\n",
       "18                   0.18                    0.19  NaN\n",
       "19                   0.19                    0.20  NaN"
      ]
     },
     "execution_count": 50,
     "metadata": {},
     "output_type": "execute_result"
    }
   ],
   "source": [
    "aggDF"
   ]
  },
  {
   "cell_type": "code",
   "execution_count": 51,
   "metadata": {},
   "outputs": [],
   "source": [
    "chicago_2008_random = chicago_2008_subset.sample(frac=0.05, replace=False)"
   ]
  },
  {
   "cell_type": "code",
   "execution_count": 52,
   "metadata": {},
   "outputs": [
    {
     "data": {
      "text/plain": [
       "(131633, 24)"
      ]
     },
     "execution_count": 52,
     "metadata": {},
     "output_type": "execute_result"
    }
   ],
   "source": [
    "chicago_2008_random.shape"
   ]
  },
  {
   "cell_type": "code",
   "execution_count": 53,
   "metadata": {},
   "outputs": [],
   "source": [
    "Sum = len(chicago_2008_random[(chicago_2008_random[\"min_distance2police\"] >= 0) & \n",
    "                          (chicago_2008_random[\"min_distance2police\"] < 0.1)])"
   ]
  },
  {
   "cell_type": "code",
   "execution_count": 54,
   "metadata": {},
   "outputs": [
    {
     "data": {
      "text/plain": [
       "131154"
      ]
     },
     "execution_count": 54,
     "metadata": {},
     "output_type": "execute_result"
    }
   ],
   "source": [
    "Sum"
   ]
  },
  {
   "cell_type": "code",
   "execution_count": 55,
   "metadata": {},
   "outputs": [],
   "source": [
    "listSum = np.ones(20)\n",
    "for i in range(20):\n",
    "    Sum = len(chicago_2008_random[(chicago_2008_random[\"min_distance2police\"] >= aggDF[\"Distance Interval Low\"][i]) & (chicago_2008_random[\"min_distance2police\"] < aggDF[\"Distance Interval High\"][i])])\n",
    "    listSum[i] = Sum\n",
    "    #print(Sum)\n",
    "aggDF['Sum'] = listSum"
   ]
  },
  {
   "cell_type": "code",
   "execution_count": 56,
   "metadata": {},
   "outputs": [
    {
     "data": {
      "text/html": [
       "<div>\n",
       "<style scoped>\n",
       "    .dataframe tbody tr th:only-of-type {\n",
       "        vertical-align: middle;\n",
       "    }\n",
       "\n",
       "    .dataframe tbody tr th {\n",
       "        vertical-align: top;\n",
       "    }\n",
       "\n",
       "    .dataframe thead th {\n",
       "        text-align: right;\n",
       "    }\n",
       "</style>\n",
       "<table border=\"1\" class=\"dataframe\">\n",
       "  <thead>\n",
       "    <tr style=\"text-align: right;\">\n",
       "      <th></th>\n",
       "      <th>Distance Interval Low</th>\n",
       "      <th>Distance Interval High</th>\n",
       "      <th>Sum</th>\n",
       "    </tr>\n",
       "  </thead>\n",
       "  <tbody>\n",
       "    <tr>\n",
       "      <th>0</th>\n",
       "      <td>0.00</td>\n",
       "      <td>0.01</td>\n",
       "      <td>21847.0</td>\n",
       "    </tr>\n",
       "    <tr>\n",
       "      <th>1</th>\n",
       "      <td>0.01</td>\n",
       "      <td>0.02</td>\n",
       "      <td>47594.0</td>\n",
       "    </tr>\n",
       "    <tr>\n",
       "      <th>2</th>\n",
       "      <td>0.02</td>\n",
       "      <td>0.03</td>\n",
       "      <td>40489.0</td>\n",
       "    </tr>\n",
       "    <tr>\n",
       "      <th>3</th>\n",
       "      <td>0.03</td>\n",
       "      <td>0.04</td>\n",
       "      <td>14867.0</td>\n",
       "    </tr>\n",
       "    <tr>\n",
       "      <th>4</th>\n",
       "      <td>0.04</td>\n",
       "      <td>0.05</td>\n",
       "      <td>4268.0</td>\n",
       "    </tr>\n",
       "    <tr>\n",
       "      <th>5</th>\n",
       "      <td>0.05</td>\n",
       "      <td>0.06</td>\n",
       "      <td>907.0</td>\n",
       "    </tr>\n",
       "    <tr>\n",
       "      <th>6</th>\n",
       "      <td>0.06</td>\n",
       "      <td>0.07</td>\n",
       "      <td>468.0</td>\n",
       "    </tr>\n",
       "    <tr>\n",
       "      <th>7</th>\n",
       "      <td>0.07</td>\n",
       "      <td>0.08</td>\n",
       "      <td>484.0</td>\n",
       "    </tr>\n",
       "    <tr>\n",
       "      <th>8</th>\n",
       "      <td>0.08</td>\n",
       "      <td>0.09</td>\n",
       "      <td>179.0</td>\n",
       "    </tr>\n",
       "    <tr>\n",
       "      <th>9</th>\n",
       "      <td>0.09</td>\n",
       "      <td>0.10</td>\n",
       "      <td>51.0</td>\n",
       "    </tr>\n",
       "    <tr>\n",
       "      <th>10</th>\n",
       "      <td>0.10</td>\n",
       "      <td>0.11</td>\n",
       "      <td>2.0</td>\n",
       "    </tr>\n",
       "    <tr>\n",
       "      <th>11</th>\n",
       "      <td>0.11</td>\n",
       "      <td>0.12</td>\n",
       "      <td>30.0</td>\n",
       "    </tr>\n",
       "    <tr>\n",
       "      <th>12</th>\n",
       "      <td>0.12</td>\n",
       "      <td>0.13</td>\n",
       "      <td>26.0</td>\n",
       "    </tr>\n",
       "    <tr>\n",
       "      <th>13</th>\n",
       "      <td>0.13</td>\n",
       "      <td>0.14</td>\n",
       "      <td>340.0</td>\n",
       "    </tr>\n",
       "    <tr>\n",
       "      <th>14</th>\n",
       "      <td>0.14</td>\n",
       "      <td>0.15</td>\n",
       "      <td>78.0</td>\n",
       "    </tr>\n",
       "    <tr>\n",
       "      <th>15</th>\n",
       "      <td>0.15</td>\n",
       "      <td>0.16</td>\n",
       "      <td>2.0</td>\n",
       "    </tr>\n",
       "    <tr>\n",
       "      <th>16</th>\n",
       "      <td>0.16</td>\n",
       "      <td>0.17</td>\n",
       "      <td>1.0</td>\n",
       "    </tr>\n",
       "    <tr>\n",
       "      <th>17</th>\n",
       "      <td>0.17</td>\n",
       "      <td>0.18</td>\n",
       "      <td>0.0</td>\n",
       "    </tr>\n",
       "    <tr>\n",
       "      <th>18</th>\n",
       "      <td>0.18</td>\n",
       "      <td>0.19</td>\n",
       "      <td>0.0</td>\n",
       "    </tr>\n",
       "    <tr>\n",
       "      <th>19</th>\n",
       "      <td>0.19</td>\n",
       "      <td>0.20</td>\n",
       "      <td>0.0</td>\n",
       "    </tr>\n",
       "  </tbody>\n",
       "</table>\n",
       "</div>"
      ],
      "text/plain": [
       "    Distance Interval Low  Distance Interval High      Sum\n",
       "0                    0.00                    0.01  21847.0\n",
       "1                    0.01                    0.02  47594.0\n",
       "2                    0.02                    0.03  40489.0\n",
       "3                    0.03                    0.04  14867.0\n",
       "4                    0.04                    0.05   4268.0\n",
       "5                    0.05                    0.06    907.0\n",
       "6                    0.06                    0.07    468.0\n",
       "7                    0.07                    0.08    484.0\n",
       "8                    0.08                    0.09    179.0\n",
       "9                    0.09                    0.10     51.0\n",
       "10                   0.10                    0.11      2.0\n",
       "11                   0.11                    0.12     30.0\n",
       "12                   0.12                    0.13     26.0\n",
       "13                   0.13                    0.14    340.0\n",
       "14                   0.14                    0.15     78.0\n",
       "15                   0.15                    0.16      2.0\n",
       "16                   0.16                    0.17      1.0\n",
       "17                   0.17                    0.18      0.0\n",
       "18                   0.18                    0.19      0.0\n",
       "19                   0.19                    0.20      0.0"
      ]
     },
     "execution_count": 56,
     "metadata": {},
     "output_type": "execute_result"
    }
   ],
   "source": [
    "aggDF"
   ]
  },
  {
   "cell_type": "code",
   "execution_count": 57,
   "metadata": {},
   "outputs": [
    {
     "data": {
      "text/plain": [
       "<matplotlib.axes._subplots.AxesSubplot at 0x10b00a048>"
      ]
     },
     "execution_count": 57,
     "metadata": {},
     "output_type": "execute_result"
    },
    {
     "data": {
      "image/png": "[encoded data removed]",
      "text/plain": [
       "<matplotlib.figure.Figure at 0x103f16908>"
      ]
     },
     "metadata": {},
     "output_type": "display_data"
    }
   ],
   "source": [
    "aggDF.plot.scatter(x='Distance Interval Low',y='Sum')"
   ]
  },
  {
   "cell_type": "markdown",
   "metadata": {},
   "source": [
    "This scatterplot show us the same picture as the boxplot - BUT there is two additionally informations extracted from this.\n",
    "\n",
    "- Within very small distances 0.00 to 0.02 it can be seen that there are more crimes further away than just next to the police station. \n",
    "- This plot is actually showing the populationdensity. This should either be adjusted for or the plot should be corrigated to only show within a range where the density of people is comparable. \n",
    "\n",
    "We will now make the intervals shorter and work within 0-0.2 range."
   ]
  },
  {
   "cell_type": "code",
   "execution_count": 58,
   "metadata": {},
   "outputs": [],
   "source": [
    "c = ['Distance Interval Low','Distance Interval High', 'Sum']\n",
    "aggDF_ = pd.DataFrame(columns=c)\n",
    "aggDF_ = aggDF_.fillna(0) # with 0s rather than NaNs\n",
    "j = 0\n",
    "k = 0.001\n",
    "listLow_ = np.ones(20)\n",
    "listHigh_ = np.ones(20)\n",
    "for i in range(20):\n",
    "    listLow_[i] = j\n",
    "    j += 0.001\n",
    "for i in range(20):\n",
    "    listHigh_[i] = k\n",
    "    k += 0.001\n",
    "aggDF_['Distance Interval Low'] = listLow_\n",
    "aggDF_['Distance Interval High'] = listHigh_"
   ]
  },
  {
   "cell_type": "code",
   "execution_count": 59,
   "metadata": {
    "scrolled": true
   },
   "outputs": [
    {
     "data": {
      "text/html": [
       "<div>\n",
       "<style scoped>\n",
       "    .dataframe tbody tr th:only-of-type {\n",
       "        vertical-align: middle;\n",
       "    }\n",
       "\n",
       "    .dataframe tbody tr th {\n",
       "        vertical-align: top;\n",
       "    }\n",
       "\n",
       "    .dataframe thead th {\n",
       "        text-align: right;\n",
       "    }\n",
       "</style>\n",
       "<table border=\"1\" class=\"dataframe\">\n",
       "  <thead>\n",
       "    <tr style=\"text-align: right;\">\n",
       "      <th></th>\n",
       "      <th>Distance Interval Low</th>\n",
       "      <th>Distance Interval High</th>\n",
       "      <th>Sum</th>\n",
       "    </tr>\n",
       "  </thead>\n",
       "  <tbody>\n",
       "    <tr>\n",
       "      <th>0</th>\n",
       "      <td>0.000</td>\n",
       "      <td>0.001</td>\n",
       "      <td>NaN</td>\n",
       "    </tr>\n",
       "    <tr>\n",
       "      <th>1</th>\n",
       "      <td>0.001</td>\n",
       "      <td>0.002</td>\n",
       "      <td>NaN</td>\n",
       "    </tr>\n",
       "    <tr>\n",
       "      <th>2</th>\n",
       "      <td>0.002</td>\n",
       "      <td>0.003</td>\n",
       "      <td>NaN</td>\n",
       "    </tr>\n",
       "    <tr>\n",
       "      <th>3</th>\n",
       "      <td>0.003</td>\n",
       "      <td>0.004</td>\n",
       "      <td>NaN</td>\n",
       "    </tr>\n",
       "    <tr>\n",
       "      <th>4</th>\n",
       "      <td>0.004</td>\n",
       "      <td>0.005</td>\n",
       "      <td>NaN</td>\n",
       "    </tr>\n",
       "    <tr>\n",
       "      <th>5</th>\n",
       "      <td>0.005</td>\n",
       "      <td>0.006</td>\n",
       "      <td>NaN</td>\n",
       "    </tr>\n",
       "    <tr>\n",
       "      <th>6</th>\n",
       "      <td>0.006</td>\n",
       "      <td>0.007</td>\n",
       "      <td>NaN</td>\n",
       "    </tr>\n",
       "    <tr>\n",
       "      <th>7</th>\n",
       "      <td>0.007</td>\n",
       "      <td>0.008</td>\n",
       "      <td>NaN</td>\n",
       "    </tr>\n",
       "    <tr>\n",
       "      <th>8</th>\n",
       "      <td>0.008</td>\n",
       "      <td>0.009</td>\n",
       "      <td>NaN</td>\n",
       "    </tr>\n",
       "    <tr>\n",
       "      <th>9</th>\n",
       "      <td>0.009</td>\n",
       "      <td>0.010</td>\n",
       "      <td>NaN</td>\n",
       "    </tr>\n",
       "    <tr>\n",
       "      <th>10</th>\n",
       "      <td>0.010</td>\n",
       "      <td>0.011</td>\n",
       "      <td>NaN</td>\n",
       "    </tr>\n",
       "    <tr>\n",
       "      <th>11</th>\n",
       "      <td>0.011</td>\n",
       "      <td>0.012</td>\n",
       "      <td>NaN</td>\n",
       "    </tr>\n",
       "    <tr>\n",
       "      <th>12</th>\n",
       "      <td>0.012</td>\n",
       "      <td>0.013</td>\n",
       "      <td>NaN</td>\n",
       "    </tr>\n",
       "    <tr>\n",
       "      <th>13</th>\n",
       "      <td>0.013</td>\n",
       "      <td>0.014</td>\n",
       "      <td>NaN</td>\n",
       "    </tr>\n",
       "    <tr>\n",
       "      <th>14</th>\n",
       "      <td>0.014</td>\n",
       "      <td>0.015</td>\n",
       "      <td>NaN</td>\n",
       "    </tr>\n",
       "    <tr>\n",
       "      <th>15</th>\n",
       "      <td>0.015</td>\n",
       "      <td>0.016</td>\n",
       "      <td>NaN</td>\n",
       "    </tr>\n",
       "    <tr>\n",
       "      <th>16</th>\n",
       "      <td>0.016</td>\n",
       "      <td>0.017</td>\n",
       "      <td>NaN</td>\n",
       "    </tr>\n",
       "    <tr>\n",
       "      <th>17</th>\n",
       "      <td>0.017</td>\n",
       "      <td>0.018</td>\n",
       "      <td>NaN</td>\n",
       "    </tr>\n",
       "    <tr>\n",
       "      <th>18</th>\n",
       "      <td>0.018</td>\n",
       "      <td>0.019</td>\n",
       "      <td>NaN</td>\n",
       "    </tr>\n",
       "    <tr>\n",
       "      <th>19</th>\n",
       "      <td>0.019</td>\n",
       "      <td>0.020</td>\n",
       "      <td>NaN</td>\n",
       "    </tr>\n",
       "  </tbody>\n",
       "</table>\n",
       "</div>"
      ],
      "text/plain": [
       "    Distance Interval Low  Distance Interval High  Sum\n",
       "0                   0.000                   0.001  NaN\n",
       "1                   0.001                   0.002  NaN\n",
       "2                   0.002                   0.003  NaN\n",
       "3                   0.003                   0.004  NaN\n",
       "4                   0.004                   0.005  NaN\n",
       "5                   0.005                   0.006  NaN\n",
       "6                   0.006                   0.007  NaN\n",
       "7                   0.007                   0.008  NaN\n",
       "8                   0.008                   0.009  NaN\n",
       "9                   0.009                   0.010  NaN\n",
       "10                  0.010                   0.011  NaN\n",
       "11                  0.011                   0.012  NaN\n",
       "12                  0.012                   0.013  NaN\n",
       "13                  0.013                   0.014  NaN\n",
       "14                  0.014                   0.015  NaN\n",
       "15                  0.015                   0.016  NaN\n",
       "16                  0.016                   0.017  NaN\n",
       "17                  0.017                   0.018  NaN\n",
       "18                  0.018                   0.019  NaN\n",
       "19                  0.019                   0.020  NaN"
      ]
     },
     "execution_count": 59,
     "metadata": {},
     "output_type": "execute_result"
    }
   ],
   "source": [
    "aggDF_"
   ]
  },
  {
   "cell_type": "code",
   "execution_count": 60,
   "metadata": {},
   "outputs": [],
   "source": [
    "listSum_ = np.ones(20)\n",
    "for i in range(20):\n",
    "    Sum_ = len(chicago_2008_random[(chicago_2008_random[\"min_distance2police\"] >= aggDF_[\"Distance Interval Low\"][i]) & (chicago_2008_random[\"min_distance2police\"] < aggDF_[\"Distance Interval High\"][i])])\n",
    "    listSum_[i] = Sum_\n",
    "    #print(Sum)\n",
    "aggDF_['Sum'] = listSum_"
   ]
  },
  {
   "cell_type": "code",
   "execution_count": 61,
   "metadata": {
    "scrolled": true
   },
   "outputs": [
    {
     "data": {
      "text/html": [
       "<div>\n",
       "<style scoped>\n",
       "    .dataframe tbody tr th:only-of-type {\n",
       "        vertical-align: middle;\n",
       "    }\n",
       "\n",
       "    .dataframe tbody tr th {\n",
       "        vertical-align: top;\n",
       "    }\n",
       "\n",
       "    .dataframe thead th {\n",
       "        text-align: right;\n",
       "    }\n",
       "</style>\n",
       "<table border=\"1\" class=\"dataframe\">\n",
       "  <thead>\n",
       "    <tr style=\"text-align: right;\">\n",
       "      <th></th>\n",
       "      <th>Distance Interval Low</th>\n",
       "      <th>Distance Interval High</th>\n",
       "      <th>Sum</th>\n",
       "    </tr>\n",
       "  </thead>\n",
       "  <tbody>\n",
       "    <tr>\n",
       "      <th>0</th>\n",
       "      <td>0.000</td>\n",
       "      <td>0.001</td>\n",
       "      <td>545.0</td>\n",
       "    </tr>\n",
       "    <tr>\n",
       "      <th>1</th>\n",
       "      <td>0.001</td>\n",
       "      <td>0.002</td>\n",
       "      <td>704.0</td>\n",
       "    </tr>\n",
       "    <tr>\n",
       "      <th>2</th>\n",
       "      <td>0.002</td>\n",
       "      <td>0.003</td>\n",
       "      <td>1263.0</td>\n",
       "    </tr>\n",
       "    <tr>\n",
       "      <th>3</th>\n",
       "      <td>0.003</td>\n",
       "      <td>0.004</td>\n",
       "      <td>1675.0</td>\n",
       "    </tr>\n",
       "    <tr>\n",
       "      <th>4</th>\n",
       "      <td>0.004</td>\n",
       "      <td>0.005</td>\n",
       "      <td>2048.0</td>\n",
       "    </tr>\n",
       "    <tr>\n",
       "      <th>5</th>\n",
       "      <td>0.005</td>\n",
       "      <td>0.006</td>\n",
       "      <td>2343.0</td>\n",
       "    </tr>\n",
       "    <tr>\n",
       "      <th>6</th>\n",
       "      <td>0.006</td>\n",
       "      <td>0.007</td>\n",
       "      <td>2699.0</td>\n",
       "    </tr>\n",
       "    <tr>\n",
       "      <th>7</th>\n",
       "      <td>0.007</td>\n",
       "      <td>0.008</td>\n",
       "      <td>3265.0</td>\n",
       "    </tr>\n",
       "    <tr>\n",
       "      <th>8</th>\n",
       "      <td>0.008</td>\n",
       "      <td>0.009</td>\n",
       "      <td>3545.0</td>\n",
       "    </tr>\n",
       "    <tr>\n",
       "      <th>9</th>\n",
       "      <td>0.009</td>\n",
       "      <td>0.010</td>\n",
       "      <td>3760.0</td>\n",
       "    </tr>\n",
       "    <tr>\n",
       "      <th>10</th>\n",
       "      <td>0.010</td>\n",
       "      <td>0.011</td>\n",
       "      <td>3804.0</td>\n",
       "    </tr>\n",
       "    <tr>\n",
       "      <th>11</th>\n",
       "      <td>0.011</td>\n",
       "      <td>0.012</td>\n",
       "      <td>4076.0</td>\n",
       "    </tr>\n",
       "    <tr>\n",
       "      <th>12</th>\n",
       "      <td>0.012</td>\n",
       "      <td>0.013</td>\n",
       "      <td>4256.0</td>\n",
       "    </tr>\n",
       "    <tr>\n",
       "      <th>13</th>\n",
       "      <td>0.013</td>\n",
       "      <td>0.014</td>\n",
       "      <td>4701.0</td>\n",
       "    </tr>\n",
       "    <tr>\n",
       "      <th>14</th>\n",
       "      <td>0.014</td>\n",
       "      <td>0.015</td>\n",
       "      <td>4844.0</td>\n",
       "    </tr>\n",
       "    <tr>\n",
       "      <th>15</th>\n",
       "      <td>0.015</td>\n",
       "      <td>0.016</td>\n",
       "      <td>5138.0</td>\n",
       "    </tr>\n",
       "    <tr>\n",
       "      <th>16</th>\n",
       "      <td>0.016</td>\n",
       "      <td>0.017</td>\n",
       "      <td>5276.0</td>\n",
       "    </tr>\n",
       "    <tr>\n",
       "      <th>17</th>\n",
       "      <td>0.017</td>\n",
       "      <td>0.018</td>\n",
       "      <td>4764.0</td>\n",
       "    </tr>\n",
       "    <tr>\n",
       "      <th>18</th>\n",
       "      <td>0.018</td>\n",
       "      <td>0.019</td>\n",
       "      <td>4798.0</td>\n",
       "    </tr>\n",
       "    <tr>\n",
       "      <th>19</th>\n",
       "      <td>0.019</td>\n",
       "      <td>0.020</td>\n",
       "      <td>5937.0</td>\n",
       "    </tr>\n",
       "  </tbody>\n",
       "</table>\n",
       "</div>"
      ],
      "text/plain": [
       "    Distance Interval Low  Distance Interval High     Sum\n",
       "0                   0.000                   0.001   545.0\n",
       "1                   0.001                   0.002   704.0\n",
       "2                   0.002                   0.003  1263.0\n",
       "3                   0.003                   0.004  1675.0\n",
       "4                   0.004                   0.005  2048.0\n",
       "5                   0.005                   0.006  2343.0\n",
       "6                   0.006                   0.007  2699.0\n",
       "7                   0.007                   0.008  3265.0\n",
       "8                   0.008                   0.009  3545.0\n",
       "9                   0.009                   0.010  3760.0\n",
       "10                  0.010                   0.011  3804.0\n",
       "11                  0.011                   0.012  4076.0\n",
       "12                  0.012                   0.013  4256.0\n",
       "13                  0.013                   0.014  4701.0\n",
       "14                  0.014                   0.015  4844.0\n",
       "15                  0.015                   0.016  5138.0\n",
       "16                  0.016                   0.017  5276.0\n",
       "17                  0.017                   0.018  4764.0\n",
       "18                  0.018                   0.019  4798.0\n",
       "19                  0.019                   0.020  5937.0"
      ]
     },
     "execution_count": 61,
     "metadata": {},
     "output_type": "execute_result"
    }
   ],
   "source": [
    "aggDF_"
   ]
  },
  {
   "cell_type": "code",
   "execution_count": 62,
   "metadata": {},
   "outputs": [
    {
     "name": "stdout",
     "output_type": "stream",
     "text": [
      "best linear fit:\n",
      "y = 982.9 + 262014.3x\n"
     ]
    },
    {
     "data": {
      "text/plain": [
       "[<matplotlib.lines.Line2D at 0x10c71cfd0>]"
      ]
     },
     "execution_count": 62,
     "metadata": {},
     "output_type": "execute_result"
    },
    {
     "data": {
      "image/png": "[encoded data removed]",
      "text/plain": [
       "<matplotlib.figure.Figure at 0x10c6ef128>"
      ]
     },
     "metadata": {},
     "output_type": "display_data"
    }
   ],
   "source": [
    "def best_fit(X, Y):\n",
    "    xbar = sum(X)/len(X)\n",
    "    ybar = sum(Y)/len(Y)\n",
    "    n = len(X) # or len(Y)\n",
    "\n",
    "    numer = sum([xi*yi for xi,yi in zip(X, Y)]) - n * xbar * ybar\n",
    "    denum = sum([xi**2 for xi in X]) - n * xbar**2\n",
    "\n",
    "    b = numer / denum\n",
    "    a = ybar - b * xbar\n",
    "\n",
    "    print('best linear fit:\\ny = {:.1f} + {:.1f}x'.format(a, b))\n",
    "\n",
    "    return a, b\n",
    "\n",
    "a, b = best_fit(aggDF_['Distance Interval Low'], aggDF_['Sum'])\n",
    "\n",
    "\n",
    "plt.scatter(aggDF_['Distance Interval Low'], aggDF_['Sum'])\n",
    "plt.xlabel('Distance to nearest police station')\n",
    "plt.ylabel('Number of crimes')\n",
    "yfit = [a + b * xi for xi in aggDF_['Distance Interval Low']]\n",
    "plt.plot(aggDF_['Distance Interval Low'], yfit)\n",
    "\n",
    "#aggDF_.plot.scatter(x='Distance Interval Low',y='Sum')"
   ]
  },
  {
   "cell_type": "markdown",
   "metadata": {},
   "source": [
    "As described in the beginning this can be seen as a test with the null-hypothesis of no positive correlation between the distance to police station and the number of crimes. Since the slope of our simple linear regression is 267.380,5 > 0 we can reject our null-hypothesis of no correlation. \n",
    "\n",
    "This is precise what we wanted to show: there are more crimes \"further away\" from the police station than near them. Since short and long distances are relative we chose to set a threshold at the eucledian distance of 0.02 which is around 3km away. "
   ]
  },
  {
   "cell_type": "markdown",
   "metadata": {},
   "source": [
    "**Create distance matrix for streetlights**"
   ]
  },
  {
   "cell_type": "code",
   "execution_count": 65,
   "metadata": {
    "scrolled": true
   },
   "outputs": [
    {
     "data": {
      "text/plain": [
       "(294485, 12)"
      ]
     },
     "execution_count": 65,
     "metadata": {},
     "output_type": "execute_result"
    }
   ],
   "source": [
    "streetlights.shape"
   ]
  },
  {
   "cell_type": "markdown",
   "metadata": {},
   "source": [
    "To limit the calculations we will focus on the ZIP codes in the southers suburbs of Chicago:"
   ]
  },
  {
   "cell_type": "markdown",
   "metadata": {},
   "source": [
    "Zip codes: 60615,60609,(60605)"
   ]
  },
  {
   "cell_type": "code",
   "execution_count": 75,
   "metadata": {
    "scrolled": true
   },
   "outputs": [],
   "source": [
    "#streetlights_subset = streetlights.loc[(streetlights['ZIP Code'] == 60615.0) | (streetlights['ZIP Code'] == 60609.0)]\n",
    "streetlights_subset = streetlights.loc[(streetlights['ZIP Code'] == 60615.0)]"
   ]
  },
  {
   "cell_type": "code",
   "execution_count": 76,
   "metadata": {
    "scrolled": true
   },
   "outputs": [
    {
     "data": {
      "text/plain": [
       "(3206, 12)"
      ]
     },
     "execution_count": 76,
     "metadata": {},
     "output_type": "execute_result"
    }
   ],
   "source": [
    "streetlights_subset.shape"
   ]
  },
  {
   "cell_type": "markdown",
   "metadata": {},
   "source": [
    "We have to subset the Chicago crime in the same way as the streetlights in order to not draw wrong statistical conclusions. Since the Chicago data does not include Zip Codes, we have to find the corresponding comunity area. The comunity is Hyde Park and the numerical code is 41. "
   ]
  },
  {
   "cell_type": "code",
   "execution_count": 114,
   "metadata": {},
   "outputs": [],
   "source": [
    "chicago_2008_random_41 = chicago_2008.loc[(chicago_2008['Community Area'] == 41.0)]"
   ]
  },
  {
   "cell_type": "code",
   "execution_count": 118,
   "metadata": {},
   "outputs": [
    {
     "data": {
      "text/plain": [
       "(14931, 24)"
      ]
     },
     "execution_count": 118,
     "metadata": {},
     "output_type": "execute_result"
    }
   ],
   "source": [
    "chicago_2008_random_41.shape"
   ]
  },
  {
   "cell_type": "code",
   "execution_count": 119,
   "metadata": {},
   "outputs": [],
   "source": [
    "distance_mat = sp.spatial.distance.cdist(chicago_2008_random_41[['Latitude','Longitude']], streetlights_subset[['Latitude','Longitude']], metric='euclidean')"
   ]
  },
  {
   "cell_type": "code",
   "execution_count": 120,
   "metadata": {},
   "outputs": [
    {
     "data": {
      "text/plain": [
       "array([[0.02041447, 0.01384171, 0.01388957, ..., 0.01179071, 0.01176609,\n",
       "        0.0241942 ],\n",
       "       [0.00507762, 0.00320252, 0.00363736, ..., 0.01315952, 0.01313289,\n",
       "        0.01024471],\n",
       "       [0.0222002 , 0.01707488, 0.01733788, ..., 0.0188257 , 0.0187966 ,\n",
       "        0.02731113],\n",
       "       ...,\n",
       "       [0.00149958, 0.00690403, 0.00716229, ..., 0.01659505, 0.01657252,\n",
       "        0.00759445],\n",
       "       [0.0273792 , 0.02196284, 0.02218254, ..., 0.02216968, 0.02214408,\n",
       "        0.03233354],\n",
       "       [0.0273792 , 0.02196284, 0.02218254, ..., 0.02216968, 0.02214408,\n",
       "        0.03233354]])"
      ]
     },
     "execution_count": 120,
     "metadata": {},
     "output_type": "execute_result"
    }
   ],
   "source": [
    "distance_mat"
   ]
  },
  {
   "cell_type": "code",
   "execution_count": 121,
   "metadata": {},
   "outputs": [
    {
     "data": {
      "text/plain": [
       "(14931, 3206)"
      ]
     },
     "execution_count": 121,
     "metadata": {},
     "output_type": "execute_result"
    }
   ],
   "source": [
    "distance_mat.shape"
   ]
  },
  {
   "cell_type": "code",
   "execution_count": 123,
   "metadata": {},
   "outputs": [
    {
     "data": {
      "text/plain": [
       "(14931, 24)"
      ]
     },
     "execution_count": 123,
     "metadata": {},
     "output_type": "execute_result"
    }
   ],
   "source": [
    "chicago_2008_random_41.shape"
   ]
  },
  {
   "cell_type": "code",
   "execution_count": 124,
   "metadata": {},
   "outputs": [],
   "source": [
    "distmat_df = pd.DataFrame(distance_mat) "
   ]
  },
  {
   "cell_type": "code",
   "execution_count": 125,
   "metadata": {},
   "outputs": [],
   "source": [
    "l = distmat_df.min(axis=1)"
   ]
  },
  {
   "cell_type": "code",
   "execution_count": 130,
   "metadata": {},
   "outputs": [
    {
     "name": "stderr",
     "output_type": "stream",
     "text": [
      "/Users/pernillesamsoe/anaconda3/lib/python3.6/site-packages/ipykernel_launcher.py:2: SettingWithCopyWarning: \n",
      "A value is trying to be set on a copy of a slice from a DataFrame.\n",
      "Try using .loc[row_indexer,col_indexer] = value instead\n",
      "\n",
      "See the caveats in the documentation: http://pandas.pydata.org/pandas-docs/stable/indexing.html#indexing-view-versus-copy\n",
      "  \n"
     ]
    }
   ],
   "source": [
    "#chicago_2008_random['min_distance2streetlight'] = distmat_df.min(axis=1)\n",
    "chicago_2008_random_41['min_distance2streetlight'] = l.values"
   ]
  },
  {
   "cell_type": "code",
   "execution_count": 128,
   "metadata": {
    "scrolled": false
   },
   "outputs": [
    {
     "data": {
      "text/html": [
       "<div>\n",
       "<style scoped>\n",
       "    .dataframe tbody tr th:only-of-type {\n",
       "        vertical-align: middle;\n",
       "    }\n",
       "\n",
       "    .dataframe tbody tr th {\n",
       "        vertical-align: top;\n",
       "    }\n",
       "\n",
       "    .dataframe thead th {\n",
       "        text-align: right;\n",
       "    }\n",
       "</style>\n",
       "<table border=\"1\" class=\"dataframe\">\n",
       "  <thead>\n",
       "    <tr style=\"text-align: right;\">\n",
       "      <th></th>\n",
       "      <th>Unnamed: 0</th>\n",
       "      <th>ID</th>\n",
       "      <th>Case Number</th>\n",
       "      <th>Date</th>\n",
       "      <th>Block</th>\n",
       "      <th>IUCR</th>\n",
       "      <th>Primary Type</th>\n",
       "      <th>Description</th>\n",
       "      <th>Location Description</th>\n",
       "      <th>Arrest</th>\n",
       "      <th>Domestic</th>\n",
       "      <th>Beat</th>\n",
       "      <th>District</th>\n",
       "      <th>Ward</th>\n",
       "      <th>Community Area</th>\n",
       "      <th>FBI Code</th>\n",
       "      <th>X Coordinate</th>\n",
       "      <th>Y Coordinate</th>\n",
       "      <th>Year</th>\n",
       "      <th>Updated On</th>\n",
       "      <th>Latitude</th>\n",
       "      <th>Longitude</th>\n",
       "      <th>Location</th>\n",
       "      <th>min_distance2police</th>\n",
       "      <th>min_distance2streetlight</th>\n",
       "    </tr>\n",
       "  </thead>\n",
       "  <tbody>\n",
       "    <tr>\n",
       "      <th>87</th>\n",
       "      <td>53369</td>\n",
       "      <td>4871</td>\n",
       "      <td>HP737737</td>\n",
       "      <td>12/17/2008 03:45:00 AM</td>\n",
       "      <td>016XX E 53RD ST</td>\n",
       "      <td>0110</td>\n",
       "      <td>HOMICIDE</td>\n",
       "      <td>FIRST DEGREE MURDER</td>\n",
       "      <td>STREET</td>\n",
       "      <td>False</td>\n",
       "      <td>False</td>\n",
       "      <td>2132</td>\n",
       "      <td>2.0</td>\n",
       "      <td>5.0</td>\n",
       "      <td>41.0</td>\n",
       "      <td>01A</td>\n",
       "      <td>1188037.0</td>\n",
       "      <td>1870446.0</td>\n",
       "      <td>2008</td>\n",
       "      <td>08/17/2015 03:03:40 PM</td>\n",
       "      <td>41.799587</td>\n",
       "      <td>-87.585943</td>\n",
       "      <td>(41.799587196, -87.585943259)</td>\n",
       "      <td>0.018949</td>\n",
       "      <td>0.000162</td>\n",
       "    </tr>\n",
       "    <tr>\n",
       "      <th>275</th>\n",
       "      <td>166538</td>\n",
       "      <td>5061</td>\n",
       "      <td>HR372962</td>\n",
       "      <td>06/13/2009 09:12:00 AM</td>\n",
       "      <td>054XX S ELLIS AVE</td>\n",
       "      <td>0110</td>\n",
       "      <td>HOMICIDE</td>\n",
       "      <td>FIRST DEGREE MURDER</td>\n",
       "      <td>APARTMENT</td>\n",
       "      <td>False</td>\n",
       "      <td>True</td>\n",
       "      <td>2131</td>\n",
       "      <td>2.0</td>\n",
       "      <td>5.0</td>\n",
       "      <td>41.0</td>\n",
       "      <td>01A</td>\n",
       "      <td>1183866.0</td>\n",
       "      <td>1869676.0</td>\n",
       "      <td>2009</td>\n",
       "      <td>08/17/2015 03:03:40 PM</td>\n",
       "      <td>41.797573</td>\n",
       "      <td>-87.601263</td>\n",
       "      <td>(41.797572754, -87.601263259)</td>\n",
       "      <td>0.029722</td>\n",
       "      <td>0.000240</td>\n",
       "    </tr>\n",
       "    <tr>\n",
       "      <th>6943</th>\n",
       "      <td>819949</td>\n",
       "      <td>6925892</td>\n",
       "      <td>HR329432</td>\n",
       "      <td>05/19/2009 12:00:00 PM</td>\n",
       "      <td>016XX E MUSEUM DR</td>\n",
       "      <td>0870</td>\n",
       "      <td>THEFT</td>\n",
       "      <td>POCKET-PICKING</td>\n",
       "      <td>OTHER</td>\n",
       "      <td>False</td>\n",
       "      <td>False</td>\n",
       "      <td>331</td>\n",
       "      <td>3.0</td>\n",
       "      <td>5.0</td>\n",
       "      <td>41.0</td>\n",
       "      <td>06</td>\n",
       "      <td>1188302.0</td>\n",
       "      <td>1867578.0</td>\n",
       "      <td>2009</td>\n",
       "      <td>02/04/2016 06:33:39 AM</td>\n",
       "      <td>41.791711</td>\n",
       "      <td>-87.585063</td>\n",
       "      <td>(41.791710871, -87.585063)</td>\n",
       "      <td>0.013199</td>\n",
       "      <td>0.003518</td>\n",
       "    </tr>\n",
       "    <tr>\n",
       "      <th>8239</th>\n",
       "      <td>821496</td>\n",
       "      <td>7099663</td>\n",
       "      <td>HR507863</td>\n",
       "      <td>08/28/2009 01:25:00 AM</td>\n",
       "      <td>051XX S HARPER AVE</td>\n",
       "      <td>0810</td>\n",
       "      <td>THEFT</td>\n",
       "      <td>OVER $500</td>\n",
       "      <td>STREET</td>\n",
       "      <td>False</td>\n",
       "      <td>False</td>\n",
       "      <td>234</td>\n",
       "      <td>2.0</td>\n",
       "      <td>4.0</td>\n",
       "      <td>41.0</td>\n",
       "      <td>06</td>\n",
       "      <td>1187157.0</td>\n",
       "      <td>1871298.0</td>\n",
       "      <td>2009</td>\n",
       "      <td>02/04/2016 06:33:39 AM</td>\n",
       "      <td>41.801946</td>\n",
       "      <td>-87.589143</td>\n",
       "      <td>(41.801946097, -87.58914335)</td>\n",
       "      <td>0.010288</td>\n",
       "      <td>0.000002</td>\n",
       "    </tr>\n",
       "    <tr>\n",
       "      <th>9264</th>\n",
       "      <td>822746</td>\n",
       "      <td>7264992</td>\n",
       "      <td>HR581319</td>\n",
       "      <td>10/10/2009 02:00:00 PM</td>\n",
       "      <td>016XX E MUSEUM DR</td>\n",
       "      <td>0810</td>\n",
       "      <td>THEFT</td>\n",
       "      <td>OVER $500</td>\n",
       "      <td>OTHER</td>\n",
       "      <td>False</td>\n",
       "      <td>False</td>\n",
       "      <td>331</td>\n",
       "      <td>3.0</td>\n",
       "      <td>5.0</td>\n",
       "      <td>41.0</td>\n",
       "      <td>06</td>\n",
       "      <td>1188302.0</td>\n",
       "      <td>1867578.0</td>\n",
       "      <td>2009</td>\n",
       "      <td>02/04/2016 06:33:39 AM</td>\n",
       "      <td>41.791711</td>\n",
       "      <td>-87.585063</td>\n",
       "      <td>(41.791710871, -87.585063)</td>\n",
       "      <td>0.018188</td>\n",
       "      <td>0.003518</td>\n",
       "    </tr>\n",
       "  </tbody>\n",
       "</table>\n",
       "</div>"
      ],
      "text/plain": [
       "      Unnamed: 0       ID Case Number                    Date  \\\n",
       "87         53369     4871    HP737737  12/17/2008 03:45:00 AM   \n",
       "275       166538     5061    HR372962  06/13/2009 09:12:00 AM   \n",
       "6943      819949  6925892    HR329432  05/19/2009 12:00:00 PM   \n",
       "8239      821496  7099663    HR507863  08/28/2009 01:25:00 AM   \n",
       "9264      822746  7264992    HR581319  10/10/2009 02:00:00 PM   \n",
       "\n",
       "                   Block  IUCR Primary Type          Description  \\\n",
       "87       016XX E 53RD ST  0110     HOMICIDE  FIRST DEGREE MURDER   \n",
       "275    054XX S ELLIS AVE  0110     HOMICIDE  FIRST DEGREE MURDER   \n",
       "6943   016XX E MUSEUM DR  0870        THEFT       POCKET-PICKING   \n",
       "8239  051XX S HARPER AVE  0810        THEFT            OVER $500   \n",
       "9264   016XX E MUSEUM DR  0810        THEFT            OVER $500   \n",
       "\n",
       "     Location Description  Arrest  Domestic  Beat  District  Ward  \\\n",
       "87                 STREET   False     False  2132       2.0   5.0   \n",
       "275             APARTMENT   False      True  2131       2.0   5.0   \n",
       "6943                OTHER   False     False   331       3.0   5.0   \n",
       "8239               STREET   False     False   234       2.0   4.0   \n",
       "9264                OTHER   False     False   331       3.0   5.0   \n",
       "\n",
       "      Community Area FBI Code  X Coordinate  Y Coordinate  Year  \\\n",
       "87              41.0      01A     1188037.0     1870446.0  2008   \n",
       "275             41.0      01A     1183866.0     1869676.0  2009   \n",
       "6943            41.0       06     1188302.0     1867578.0  2009   \n",
       "8239            41.0       06     1187157.0     1871298.0  2009   \n",
       "9264            41.0       06     1188302.0     1867578.0  2009   \n",
       "\n",
       "                  Updated On   Latitude  Longitude  \\\n",
       "87    08/17/2015 03:03:40 PM  41.799587 -87.585943   \n",
       "275   08/17/2015 03:03:40 PM  41.797573 -87.601263   \n",
       "6943  02/04/2016 06:33:39 AM  41.791711 -87.585063   \n",
       "8239  02/04/2016 06:33:39 AM  41.801946 -87.589143   \n",
       "9264  02/04/2016 06:33:39 AM  41.791711 -87.585063   \n",
       "\n",
       "                           Location  min_distance2police  \\\n",
       "87    (41.799587196, -87.585943259)             0.018949   \n",
       "275   (41.797572754, -87.601263259)             0.029722   \n",
       "6943     (41.791710871, -87.585063)             0.013199   \n",
       "8239   (41.801946097, -87.58914335)             0.010288   \n",
       "9264     (41.791710871, -87.585063)             0.018188   \n",
       "\n",
       "      min_distance2streetlight  \n",
       "87                    0.000162  \n",
       "275                   0.000240  \n",
       "6943                  0.003518  \n",
       "8239                  0.000002  \n",
       "9264                  0.003518  "
      ]
     },
     "execution_count": 128,
     "metadata": {},
     "output_type": "execute_result"
    }
   ],
   "source": [
    "pd.set_option('display.max_columns', 40)\n",
    "chicago_2008_random_41.head()"
   ]
  },
  {
   "cell_type": "markdown",
   "metadata": {},
   "source": [
    "***Exploratory plotting for streetlights***"
   ]
  },
  {
   "cell_type": "code",
   "execution_count": 131,
   "metadata": {
    "scrolled": true
   },
   "outputs": [
    {
     "data": {
      "text/plain": [
       "<matplotlib.axes._subplots.AxesSubplot at 0x10ecc6358>"
      ]
     },
     "execution_count": 131,
     "metadata": {},
     "output_type": "execute_result"
    },
    {
     "data": {
      "image/png": "[encoded data removed]",
      "text/plain": [
       "<matplotlib.figure.Figure at 0x10cfbaa90>"
      ]
     },
     "metadata": {},
     "output_type": "display_data"
    }
   ],
   "source": [
    "chicago_2008_random_41.boxplot(column='min_distance2streetlight')"
   ]
  },
  {
   "cell_type": "markdown",
   "metadata": {},
   "source": [
    "We see the exact same problem as before with the outlier. Lets subset data and look at the distribution:"
   ]
  },
  {
   "cell_type": "code",
   "execution_count": 133,
   "metadata": {},
   "outputs": [],
   "source": [
    "chicago_2008_random_41_ = chicago_2008_random_41.loc[chicago_2008_random_41['min_distance2streetlight'] < 0.035]"
   ]
  },
  {
   "cell_type": "code",
   "execution_count": 134,
   "metadata": {
    "scrolled": true
   },
   "outputs": [
    {
     "data": {
      "text/plain": [
       "<matplotlib.axes._subplots.AxesSubplot at 0x10f1c5a90>"
      ]
     },
     "execution_count": 134,
     "metadata": {},
     "output_type": "execute_result"
    },
    {
     "data": {
      "image/png": "[encoded data removed]",
      "text/plain": [
       "<matplotlib.figure.Figure at 0x10ece6358>"
      ]
     },
     "metadata": {},
     "output_type": "display_data"
    }
   ],
   "source": [
    "chicago_2008_random_41_.boxplot(column='min_distance2streetlight')"
   ]
  },
  {
   "cell_type": "markdown",
   "metadata": {},
   "source": [
    "***TESTING OF STREETLIGHT DISTANCES***\n",
    "\n",
    "Let us now test whether there are more crimes in the distances further away from street lights.\n"
   ]
  },
  {
   "cell_type": "code",
   "execution_count": 135,
   "metadata": {},
   "outputs": [],
   "source": [
    "columns = ['Distance Interval Low','Distance Interval High', 'Sum']\n",
    "aggDFs = pd.DataFrame(columns=columns)\n",
    "aggDFs = aggDFs.fillna(0) # with 0s rather than NaNs\n",
    "j = 0\n",
    "k = 0.0001\n",
    "listLow = np.ones(20)\n",
    "listHigh = np.ones(20)\n",
    "for i in range(20):\n",
    "    listLow[i] = j\n",
    "    j += 0.0001\n",
    "for i in range(20):\n",
    "    listHigh[i] = k\n",
    "    k += 0.0001\n",
    "aggDFs['Distance Interval Low'] = listLow\n",
    "aggDFs['Distance Interval High'] = listHigh"
   ]
  },
  {
   "cell_type": "code",
   "execution_count": 136,
   "metadata": {},
   "outputs": [
    {
     "data": {
      "text/html": [
       "<div>\n",
       "<style scoped>\n",
       "    .dataframe tbody tr th:only-of-type {\n",
       "        vertical-align: middle;\n",
       "    }\n",
       "\n",
       "    .dataframe tbody tr th {\n",
       "        vertical-align: top;\n",
       "    }\n",
       "\n",
       "    .dataframe thead th {\n",
       "        text-align: right;\n",
       "    }\n",
       "</style>\n",
       "<table border=\"1\" class=\"dataframe\">\n",
       "  <thead>\n",
       "    <tr style=\"text-align: right;\">\n",
       "      <th></th>\n",
       "      <th>Distance Interval Low</th>\n",
       "      <th>Distance Interval High</th>\n",
       "      <th>Sum</th>\n",
       "    </tr>\n",
       "  </thead>\n",
       "  <tbody>\n",
       "    <tr>\n",
       "      <th>0</th>\n",
       "      <td>0.0000</td>\n",
       "      <td>0.0001</td>\n",
       "      <td>NaN</td>\n",
       "    </tr>\n",
       "    <tr>\n",
       "      <th>1</th>\n",
       "      <td>0.0001</td>\n",
       "      <td>0.0002</td>\n",
       "      <td>NaN</td>\n",
       "    </tr>\n",
       "    <tr>\n",
       "      <th>2</th>\n",
       "      <td>0.0002</td>\n",
       "      <td>0.0003</td>\n",
       "      <td>NaN</td>\n",
       "    </tr>\n",
       "    <tr>\n",
       "      <th>3</th>\n",
       "      <td>0.0003</td>\n",
       "      <td>0.0004</td>\n",
       "      <td>NaN</td>\n",
       "    </tr>\n",
       "    <tr>\n",
       "      <th>4</th>\n",
       "      <td>0.0004</td>\n",
       "      <td>0.0005</td>\n",
       "      <td>NaN</td>\n",
       "    </tr>\n",
       "    <tr>\n",
       "      <th>5</th>\n",
       "      <td>0.0005</td>\n",
       "      <td>0.0006</td>\n",
       "      <td>NaN</td>\n",
       "    </tr>\n",
       "    <tr>\n",
       "      <th>6</th>\n",
       "      <td>0.0006</td>\n",
       "      <td>0.0007</td>\n",
       "      <td>NaN</td>\n",
       "    </tr>\n",
       "    <tr>\n",
       "      <th>7</th>\n",
       "      <td>0.0007</td>\n",
       "      <td>0.0008</td>\n",
       "      <td>NaN</td>\n",
       "    </tr>\n",
       "    <tr>\n",
       "      <th>8</th>\n",
       "      <td>0.0008</td>\n",
       "      <td>0.0009</td>\n",
       "      <td>NaN</td>\n",
       "    </tr>\n",
       "    <tr>\n",
       "      <th>9</th>\n",
       "      <td>0.0009</td>\n",
       "      <td>0.0010</td>\n",
       "      <td>NaN</td>\n",
       "    </tr>\n",
       "    <tr>\n",
       "      <th>10</th>\n",
       "      <td>0.0010</td>\n",
       "      <td>0.0011</td>\n",
       "      <td>NaN</td>\n",
       "    </tr>\n",
       "    <tr>\n",
       "      <th>11</th>\n",
       "      <td>0.0011</td>\n",
       "      <td>0.0012</td>\n",
       "      <td>NaN</td>\n",
       "    </tr>\n",
       "    <tr>\n",
       "      <th>12</th>\n",
       "      <td>0.0012</td>\n",
       "      <td>0.0013</td>\n",
       "      <td>NaN</td>\n",
       "    </tr>\n",
       "    <tr>\n",
       "      <th>13</th>\n",
       "      <td>0.0013</td>\n",
       "      <td>0.0014</td>\n",
       "      <td>NaN</td>\n",
       "    </tr>\n",
       "    <tr>\n",
       "      <th>14</th>\n",
       "      <td>0.0014</td>\n",
       "      <td>0.0015</td>\n",
       "      <td>NaN</td>\n",
       "    </tr>\n",
       "    <tr>\n",
       "      <th>15</th>\n",
       "      <td>0.0015</td>\n",
       "      <td>0.0016</td>\n",
       "      <td>NaN</td>\n",
       "    </tr>\n",
       "    <tr>\n",
       "      <th>16</th>\n",
       "      <td>0.0016</td>\n",
       "      <td>0.0017</td>\n",
       "      <td>NaN</td>\n",
       "    </tr>\n",
       "    <tr>\n",
       "      <th>17</th>\n",
       "      <td>0.0017</td>\n",
       "      <td>0.0018</td>\n",
       "      <td>NaN</td>\n",
       "    </tr>\n",
       "    <tr>\n",
       "      <th>18</th>\n",
       "      <td>0.0018</td>\n",
       "      <td>0.0019</td>\n",
       "      <td>NaN</td>\n",
       "    </tr>\n",
       "    <tr>\n",
       "      <th>19</th>\n",
       "      <td>0.0019</td>\n",
       "      <td>0.0020</td>\n",
       "      <td>NaN</td>\n",
       "    </tr>\n",
       "  </tbody>\n",
       "</table>\n",
       "</div>"
      ],
      "text/plain": [
       "    Distance Interval Low  Distance Interval High  Sum\n",
       "0                  0.0000                  0.0001  NaN\n",
       "1                  0.0001                  0.0002  NaN\n",
       "2                  0.0002                  0.0003  NaN\n",
       "3                  0.0003                  0.0004  NaN\n",
       "4                  0.0004                  0.0005  NaN\n",
       "5                  0.0005                  0.0006  NaN\n",
       "6                  0.0006                  0.0007  NaN\n",
       "7                  0.0007                  0.0008  NaN\n",
       "8                  0.0008                  0.0009  NaN\n",
       "9                  0.0009                  0.0010  NaN\n",
       "10                 0.0010                  0.0011  NaN\n",
       "11                 0.0011                  0.0012  NaN\n",
       "12                 0.0012                  0.0013  NaN\n",
       "13                 0.0013                  0.0014  NaN\n",
       "14                 0.0014                  0.0015  NaN\n",
       "15                 0.0015                  0.0016  NaN\n",
       "16                 0.0016                  0.0017  NaN\n",
       "17                 0.0017                  0.0018  NaN\n",
       "18                 0.0018                  0.0019  NaN\n",
       "19                 0.0019                  0.0020  NaN"
      ]
     },
     "execution_count": 136,
     "metadata": {},
     "output_type": "execute_result"
    }
   ],
   "source": [
    "aggDFs"
   ]
  },
  {
   "cell_type": "code",
   "execution_count": 137,
   "metadata": {},
   "outputs": [],
   "source": [
    "listSum_ = np.ones(20)\n",
    "for i in range(20):\n",
    "    Sum_ = len(chicago_2008_random_41_[(chicago_2008_random_41_[\"min_distance2streetlight\"] >= aggDFs[\"Distance Interval Low\"][i]) & (chicago_2008_random_41_[\"min_distance2streetlight\"] < aggDFs[\"Distance Interval High\"][i])])\n",
    "    listSum_[i] = Sum_\n",
    "    #print(Sum)\n",
    "aggDFs['Sum'] = listSum_"
   ]
  },
  {
   "cell_type": "code",
   "execution_count": 138,
   "metadata": {
    "scrolled": true
   },
   "outputs": [
    {
     "data": {
      "text/html": [
       "<div>\n",
       "<style scoped>\n",
       "    .dataframe tbody tr th:only-of-type {\n",
       "        vertical-align: middle;\n",
       "    }\n",
       "\n",
       "    .dataframe tbody tr th {\n",
       "        vertical-align: top;\n",
       "    }\n",
       "\n",
       "    .dataframe thead th {\n",
       "        text-align: right;\n",
       "    }\n",
       "</style>\n",
       "<table border=\"1\" class=\"dataframe\">\n",
       "  <thead>\n",
       "    <tr style=\"text-align: right;\">\n",
       "      <th></th>\n",
       "      <th>Distance Interval Low</th>\n",
       "      <th>Distance Interval High</th>\n",
       "      <th>Sum</th>\n",
       "    </tr>\n",
       "  </thead>\n",
       "  <tbody>\n",
       "    <tr>\n",
       "      <th>0</th>\n",
       "      <td>0.0000</td>\n",
       "      <td>0.0001</td>\n",
       "      <td>3031.0</td>\n",
       "    </tr>\n",
       "    <tr>\n",
       "      <th>1</th>\n",
       "      <td>0.0001</td>\n",
       "      <td>0.0002</td>\n",
       "      <td>2115.0</td>\n",
       "    </tr>\n",
       "    <tr>\n",
       "      <th>2</th>\n",
       "      <td>0.0002</td>\n",
       "      <td>0.0003</td>\n",
       "      <td>1560.0</td>\n",
       "    </tr>\n",
       "    <tr>\n",
       "      <th>3</th>\n",
       "      <td>0.0003</td>\n",
       "      <td>0.0004</td>\n",
       "      <td>1119.0</td>\n",
       "    </tr>\n",
       "    <tr>\n",
       "      <th>4</th>\n",
       "      <td>0.0004</td>\n",
       "      <td>0.0005</td>\n",
       "      <td>1260.0</td>\n",
       "    </tr>\n",
       "    <tr>\n",
       "      <th>5</th>\n",
       "      <td>0.0005</td>\n",
       "      <td>0.0006</td>\n",
       "      <td>763.0</td>\n",
       "    </tr>\n",
       "    <tr>\n",
       "      <th>6</th>\n",
       "      <td>0.0006</td>\n",
       "      <td>0.0007</td>\n",
       "      <td>553.0</td>\n",
       "    </tr>\n",
       "    <tr>\n",
       "      <th>7</th>\n",
       "      <td>0.0007</td>\n",
       "      <td>0.0008</td>\n",
       "      <td>342.0</td>\n",
       "    </tr>\n",
       "    <tr>\n",
       "      <th>8</th>\n",
       "      <td>0.0008</td>\n",
       "      <td>0.0009</td>\n",
       "      <td>254.0</td>\n",
       "    </tr>\n",
       "    <tr>\n",
       "      <th>9</th>\n",
       "      <td>0.0009</td>\n",
       "      <td>0.0010</td>\n",
       "      <td>136.0</td>\n",
       "    </tr>\n",
       "    <tr>\n",
       "      <th>10</th>\n",
       "      <td>0.0010</td>\n",
       "      <td>0.0011</td>\n",
       "      <td>90.0</td>\n",
       "    </tr>\n",
       "    <tr>\n",
       "      <th>11</th>\n",
       "      <td>0.0011</td>\n",
       "      <td>0.0012</td>\n",
       "      <td>32.0</td>\n",
       "    </tr>\n",
       "    <tr>\n",
       "      <th>12</th>\n",
       "      <td>0.0012</td>\n",
       "      <td>0.0013</td>\n",
       "      <td>21.0</td>\n",
       "    </tr>\n",
       "    <tr>\n",
       "      <th>13</th>\n",
       "      <td>0.0013</td>\n",
       "      <td>0.0014</td>\n",
       "      <td>28.0</td>\n",
       "    </tr>\n",
       "    <tr>\n",
       "      <th>14</th>\n",
       "      <td>0.0014</td>\n",
       "      <td>0.0015</td>\n",
       "      <td>0.0</td>\n",
       "    </tr>\n",
       "    <tr>\n",
       "      <th>15</th>\n",
       "      <td>0.0015</td>\n",
       "      <td>0.0016</td>\n",
       "      <td>0.0</td>\n",
       "    </tr>\n",
       "    <tr>\n",
       "      <th>16</th>\n",
       "      <td>0.0016</td>\n",
       "      <td>0.0017</td>\n",
       "      <td>0.0</td>\n",
       "    </tr>\n",
       "    <tr>\n",
       "      <th>17</th>\n",
       "      <td>0.0017</td>\n",
       "      <td>0.0018</td>\n",
       "      <td>6.0</td>\n",
       "    </tr>\n",
       "    <tr>\n",
       "      <th>18</th>\n",
       "      <td>0.0018</td>\n",
       "      <td>0.0019</td>\n",
       "      <td>224.0</td>\n",
       "    </tr>\n",
       "    <tr>\n",
       "      <th>19</th>\n",
       "      <td>0.0019</td>\n",
       "      <td>0.0020</td>\n",
       "      <td>72.0</td>\n",
       "    </tr>\n",
       "  </tbody>\n",
       "</table>\n",
       "</div>"
      ],
      "text/plain": [
       "    Distance Interval Low  Distance Interval High     Sum\n",
       "0                  0.0000                  0.0001  3031.0\n",
       "1                  0.0001                  0.0002  2115.0\n",
       "2                  0.0002                  0.0003  1560.0\n",
       "3                  0.0003                  0.0004  1119.0\n",
       "4                  0.0004                  0.0005  1260.0\n",
       "5                  0.0005                  0.0006   763.0\n",
       "6                  0.0006                  0.0007   553.0\n",
       "7                  0.0007                  0.0008   342.0\n",
       "8                  0.0008                  0.0009   254.0\n",
       "9                  0.0009                  0.0010   136.0\n",
       "10                 0.0010                  0.0011    90.0\n",
       "11                 0.0011                  0.0012    32.0\n",
       "12                 0.0012                  0.0013    21.0\n",
       "13                 0.0013                  0.0014    28.0\n",
       "14                 0.0014                  0.0015     0.0\n",
       "15                 0.0015                  0.0016     0.0\n",
       "16                 0.0016                  0.0017     0.0\n",
       "17                 0.0017                  0.0018     6.0\n",
       "18                 0.0018                  0.0019   224.0\n",
       "19                 0.0019                  0.0020    72.0"
      ]
     },
     "execution_count": 138,
     "metadata": {},
     "output_type": "execute_result"
    }
   ],
   "source": [
    "aggDFs"
   ]
  },
  {
   "cell_type": "code",
   "execution_count": 139,
   "metadata": {
    "scrolled": true
   },
   "outputs": [
    {
     "data": {
      "text/plain": [
       "<matplotlib.axes._subplots.AxesSubplot at 0x1a1183c128>"
      ]
     },
     "execution_count": 139,
     "metadata": {},
     "output_type": "execute_result"
    },
    {
     "data": {
      "image/png": "[encoded data removed]",
      "text/plain": [
       "<matplotlib.figure.Figure at 0x1a1184eeb8>"
      ]
     },
     "metadata": {},
     "output_type": "display_data"
    }
   ],
   "source": [
    "aggDFs.plot.scatter(x='Distance Interval Low',y='Sum')"
   ]
  },
  {
   "cell_type": "markdown",
   "metadata": {},
   "source": [
    "We do not quite see the same pattern for streetlights as we do for police stations. Maybe this makes sense since a possible correlation would not make a causation. Were there are streetlights, there are also more people, and therefore more crimes. In order to get the true picture we would have to take into account the density of people in the different areas. "
   ]
  },
  {
   "cell_type": "markdown",
   "metadata": {},
   "source": [
    "***OVERALL EXPLORATIVE ANALYSIS***\n",
    "\n"
   ]
  },
  {
   "cell_type": "markdown",
   "metadata": {},
   "source": [
    "We are, for this project, working with three different datasets: general crime in Chicago from 2008-2011, policestations locations in the same period, and streetlights for the same period. This notebook goes through the desciptive analysis containing the examination of data shapes, types, and missing values. As an example we removed all missing values found in any of the location variables of all three datasets, since this would not be possible to impute. Furthermore, explorative plotting is done in order to get a greater insight into data.  An early conclusion from looking at the boxplots is that there are no clear difference between ’arrest’ and ’no arrest’ based on distance to nearest police station. The same is concluded for streetlights. \n",
    "More importantly, we tested whether there was statistical evidence showing that more crimes would occur further away from police stations and streetlights.\n",
    "- Policestations: It was found in the statistical test that small or big distances are relative, and we therefore chose our threshold to be the median of the dataset: 0.02. In the range of 0-0.02 a clear trend showed that high distances from nearest police station was positive correlation with the number of crimes.\n",
    "- Streetlights: The same analysis was carried out for streetlights, but did not result in the same conclusion. The main reason behind this is that we did not account for the population density. \n",
    "\n",
    "Future work for this project will include finishing the statistical tests to back up our data visualization story with. For the data visualization tasks we will focus on two visualizations:\n",
    "1. a tree map showing a breakdown of crimes\n",
    "2. mapping the crimes with interactive timeline\n",
    "\n",
    "The first visualization will be done since we have around 328 categories for crime and we need to limit these into a reasonable amount. A good way of telling this story is by a tree map."
   ]
  },
  {
   "cell_type": "markdown",
   "metadata": {},
   "source": [
    "*********\n",
    "\n",
    "\n",
    "\n",
    "\n",
    "Helping code for location analysis "
   ]
  },
  {
   "cell_type": "code",
   "execution_count": 64,
   "metadata": {},
   "outputs": [
    {
     "data": {
      "text/plain": [
       "array([[0.        , 0.0193352 , 1.6171966 , 1.88558331],\n",
       "       [0.0193352 , 0.        , 1.59847545, 1.896163  ],\n",
       "       [1.6171966 , 1.59847545, 0.        , 2.84770898],\n",
       "       [1.88558331, 1.896163  , 2.84770898, 0.        ]])"
      ]
     },
     "execution_count": 64,
     "metadata": {},
     "output_type": "execute_result"
    }
   ],
   "source": [
    "from scipy.spatial import distance\n",
    "coords = [(35.0456, -85.2672),\n",
    "          (35.0524, -85.2491),\n",
    "          (35.9728, -83.9422),         \n",
    "          (36.1667, -86.7833)]\n",
    "distance.cdist(coords, coords, 'euclidean')"
   ]
  }
 ],
 "metadata": {
  "kernelspec": {
   "display_name": "Python 3",
   "language": "python",
   "name": "python3"
  },
  "language_info": {
   "codemirror_mode": {
    "name": "ipython",
    "version": 3
   },
   "file_extension": ".py",
   "mimetype": "text/x-python",
   "name": "python",
   "nbconvert_exporter": "python",
   "pygments_lexer": "ipython3",
   "version": "3.6.4"
  }
 },
 "nbformat": 4,
 "nbformat_minor": 2
}
